{
  "cells": [
    {
      "cell_type": "markdown",
      "metadata": {
        "id": "view-in-github",
        "colab_type": "text"
      },
      "source": [
        "<a href=\"https://colab.research.google.com/github/fegasu/Arduino/blob/master/07_Pandas.ipynb\" target=\"_parent\"><img src=\"https://colab.research.google.com/assets/colab-badge.svg\" alt=\"Open In Colab\"/></a>"
      ]
    },
    {
      "cell_type": "markdown",
      "metadata": {
        "id": "qqNpBSAt0cjl"
      },
      "source": [
        "# Análisis de datos con Pandas\n",
        "\n",
        "Pandas es un paquete de Python que facilita el análisis de datos, proporcionando estructuras de datos rápidas, flexibles y expresivas que hacen el trabajo mucho más intuitivo."
      ]
    },
    {
      "cell_type": "markdown",
      "metadata": {
        "id": "MHE0Y6iR0cjq"
      },
      "source": [
        "## Importando los paquetes necesarios"
      ]
    },
    {
      "cell_type": "code",
      "execution_count": null,
      "metadata": {
        "id": "DvD0Lk1I0cjq"
      },
      "outputs": [],
      "source": [
        "import pandas as pd \n",
        "import numpy as np  #Paquete de cálculo científico y análisis de datos"
      ]
    },
    {
      "cell_type": "markdown",
      "metadata": {
        "id": "qMSEq46T0cjr"
      },
      "source": [
        "## Creación de variables\n",
        "Primero creamos las variables a analizar."
      ]
    },
    {
      "cell_type": "code",
      "execution_count": null,
      "metadata": {
        "id": "av1Yq6pl0cjs"
      },
      "outputs": [],
      "source": [
        "Vendedor=np.array([\"Uldarico\",\"Juana\",\"Maria\",\"Jose\",\"Maria\",\"Juana\",\"Maria\",\"Jose\",\"Maria\",\"Juana\"])\n",
        "Venta=np.array([3000,4000,5000,2000,6000,7000,10000,7000,3000,6000])\n",
        "Descuento=np.array([0.10,0.20,0.5,0.6,0.8,np.nan,0.3,0.2,0.1,0.10])\n",
        "Comision=np.array([0.01,0.02,0.01,0.04,0.01,0.02,0.03,0.00,0.05,0.01])\n",
        "Horario=[\"Nocturno\"]*6 + [\"Diurno\"]*4"
      ]
    },
    {
      "cell_type": "markdown",
      "metadata": {
        "id": "49-cbtGf0cjs"
      },
      "source": [
        "## Dataframe\n",
        "Un dataframe es un tipo especial de objeto de python cuya estructura permite almacenar un conjunto de datos. Los datos almacenados pueden ser de diversos tipos tanto numéricos y alfanuméricos. Su representación es muy similar a la de una matriz, en donde, las filas van a representar a los individuos y las columnas a las variables."
      ]
    },
    {
      "cell_type": "code",
      "execution_count": null,
      "metadata": {
        "id": "ewghGUha0cjt",
        "outputId": "a326a88d-eba8-4f8d-e827-64a895db88f6",
        "colab": {
          "base_uri": "https://localhost:8080/",
          "height": 363
        }
      },
      "outputs": [
        {
          "output_type": "execute_result",
          "data": {
            "text/plain": [
              "   Vendedor  Venta  Descuento  Comision   Horario\n",
              "0  Uldarico   3000        0.1      0.01  Nocturno\n",
              "1     Juana   4000        0.2      0.02  Nocturno\n",
              "2     Maria   5000        0.5      0.01  Nocturno\n",
              "3      Jose   2000        0.6      0.04  Nocturno\n",
              "4     Maria   6000        0.8      0.01  Nocturno\n",
              "5     Juana   7000        NaN      0.02  Nocturno\n",
              "6     Maria  10000        0.3      0.03    Diurno\n",
              "7      Jose   7000        0.2      0.00    Diurno\n",
              "8     Maria   3000        0.1      0.05    Diurno\n",
              "9     Juana   6000        0.1      0.01    Diurno"
            ],
            "text/html": [
              "\n",
              "  <div id=\"df-cc925713-7285-42b8-bccc-a836f7d1d993\">\n",
              "    <div class=\"colab-df-container\">\n",
              "      <div>\n",
              "<style scoped>\n",
              "    .dataframe tbody tr th:only-of-type {\n",
              "        vertical-align: middle;\n",
              "    }\n",
              "\n",
              "    .dataframe tbody tr th {\n",
              "        vertical-align: top;\n",
              "    }\n",
              "\n",
              "    .dataframe thead th {\n",
              "        text-align: right;\n",
              "    }\n",
              "</style>\n",
              "<table border=\"1\" class=\"dataframe\">\n",
              "  <thead>\n",
              "    <tr style=\"text-align: right;\">\n",
              "      <th></th>\n",
              "      <th>Vendedor</th>\n",
              "      <th>Venta</th>\n",
              "      <th>Descuento</th>\n",
              "      <th>Comision</th>\n",
              "      <th>Horario</th>\n",
              "    </tr>\n",
              "  </thead>\n",
              "  <tbody>\n",
              "    <tr>\n",
              "      <th>0</th>\n",
              "      <td>Uldarico</td>\n",
              "      <td>3000</td>\n",
              "      <td>0.1</td>\n",
              "      <td>0.01</td>\n",
              "      <td>Nocturno</td>\n",
              "    </tr>\n",
              "    <tr>\n",
              "      <th>1</th>\n",
              "      <td>Juana</td>\n",
              "      <td>4000</td>\n",
              "      <td>0.2</td>\n",
              "      <td>0.02</td>\n",
              "      <td>Nocturno</td>\n",
              "    </tr>\n",
              "    <tr>\n",
              "      <th>2</th>\n",
              "      <td>Maria</td>\n",
              "      <td>5000</td>\n",
              "      <td>0.5</td>\n",
              "      <td>0.01</td>\n",
              "      <td>Nocturno</td>\n",
              "    </tr>\n",
              "    <tr>\n",
              "      <th>3</th>\n",
              "      <td>Jose</td>\n",
              "      <td>2000</td>\n",
              "      <td>0.6</td>\n",
              "      <td>0.04</td>\n",
              "      <td>Nocturno</td>\n",
              "    </tr>\n",
              "    <tr>\n",
              "      <th>4</th>\n",
              "      <td>Maria</td>\n",
              "      <td>6000</td>\n",
              "      <td>0.8</td>\n",
              "      <td>0.01</td>\n",
              "      <td>Nocturno</td>\n",
              "    </tr>\n",
              "    <tr>\n",
              "      <th>5</th>\n",
              "      <td>Juana</td>\n",
              "      <td>7000</td>\n",
              "      <td>NaN</td>\n",
              "      <td>0.02</td>\n",
              "      <td>Nocturno</td>\n",
              "    </tr>\n",
              "    <tr>\n",
              "      <th>6</th>\n",
              "      <td>Maria</td>\n",
              "      <td>10000</td>\n",
              "      <td>0.3</td>\n",
              "      <td>0.03</td>\n",
              "      <td>Diurno</td>\n",
              "    </tr>\n",
              "    <tr>\n",
              "      <th>7</th>\n",
              "      <td>Jose</td>\n",
              "      <td>7000</td>\n",
              "      <td>0.2</td>\n",
              "      <td>0.00</td>\n",
              "      <td>Diurno</td>\n",
              "    </tr>\n",
              "    <tr>\n",
              "      <th>8</th>\n",
              "      <td>Maria</td>\n",
              "      <td>3000</td>\n",
              "      <td>0.1</td>\n",
              "      <td>0.05</td>\n",
              "      <td>Diurno</td>\n",
              "    </tr>\n",
              "    <tr>\n",
              "      <th>9</th>\n",
              "      <td>Juana</td>\n",
              "      <td>6000</td>\n",
              "      <td>0.1</td>\n",
              "      <td>0.01</td>\n",
              "      <td>Diurno</td>\n",
              "    </tr>\n",
              "  </tbody>\n",
              "</table>\n",
              "</div>\n",
              "      <button class=\"colab-df-convert\" onclick=\"convertToInteractive('df-cc925713-7285-42b8-bccc-a836f7d1d993')\"\n",
              "              title=\"Convert this dataframe to an interactive table.\"\n",
              "              style=\"display:none;\">\n",
              "        \n",
              "  <svg xmlns=\"http://www.w3.org/2000/svg\" height=\"24px\"viewBox=\"0 0 24 24\"\n",
              "       width=\"24px\">\n",
              "    <path d=\"M0 0h24v24H0V0z\" fill=\"none\"/>\n",
              "    <path d=\"M18.56 5.44l.94 2.06.94-2.06 2.06-.94-2.06-.94-.94-2.06-.94 2.06-2.06.94zm-11 1L8.5 8.5l.94-2.06 2.06-.94-2.06-.94L8.5 2.5l-.94 2.06-2.06.94zm10 10l.94 2.06.94-2.06 2.06-.94-2.06-.94-.94-2.06-.94 2.06-2.06.94z\"/><path d=\"M17.41 7.96l-1.37-1.37c-.4-.4-.92-.59-1.43-.59-.52 0-1.04.2-1.43.59L10.3 9.45l-7.72 7.72c-.78.78-.78 2.05 0 2.83L4 21.41c.39.39.9.59 1.41.59.51 0 1.02-.2 1.41-.59l7.78-7.78 2.81-2.81c.8-.78.8-2.07 0-2.86zM5.41 20L4 18.59l7.72-7.72 1.47 1.35L5.41 20z\"/>\n",
              "  </svg>\n",
              "      </button>\n",
              "      \n",
              "  <style>\n",
              "    .colab-df-container {\n",
              "      display:flex;\n",
              "      flex-wrap:wrap;\n",
              "      gap: 12px;\n",
              "    }\n",
              "\n",
              "    .colab-df-convert {\n",
              "      background-color: #E8F0FE;\n",
              "      border: none;\n",
              "      border-radius: 50%;\n",
              "      cursor: pointer;\n",
              "      display: none;\n",
              "      fill: #1967D2;\n",
              "      height: 32px;\n",
              "      padding: 0 0 0 0;\n",
              "      width: 32px;\n",
              "    }\n",
              "\n",
              "    .colab-df-convert:hover {\n",
              "      background-color: #E2EBFA;\n",
              "      box-shadow: 0px 1px 2px rgba(60, 64, 67, 0.3), 0px 1px 3px 1px rgba(60, 64, 67, 0.15);\n",
              "      fill: #174EA6;\n",
              "    }\n",
              "\n",
              "    [theme=dark] .colab-df-convert {\n",
              "      background-color: #3B4455;\n",
              "      fill: #D2E3FC;\n",
              "    }\n",
              "\n",
              "    [theme=dark] .colab-df-convert:hover {\n",
              "      background-color: #434B5C;\n",
              "      box-shadow: 0px 1px 3px 1px rgba(0, 0, 0, 0.15);\n",
              "      filter: drop-shadow(0px 1px 2px rgba(0, 0, 0, 0.3));\n",
              "      fill: #FFFFFF;\n",
              "    }\n",
              "  </style>\n",
              "\n",
              "      <script>\n",
              "        const buttonEl =\n",
              "          document.querySelector('#df-cc925713-7285-42b8-bccc-a836f7d1d993 button.colab-df-convert');\n",
              "        buttonEl.style.display =\n",
              "          google.colab.kernel.accessAllowed ? 'block' : 'none';\n",
              "\n",
              "        async function convertToInteractive(key) {\n",
              "          const element = document.querySelector('#df-cc925713-7285-42b8-bccc-a836f7d1d993');\n",
              "          const dataTable =\n",
              "            await google.colab.kernel.invokeFunction('convertToInteractive',\n",
              "                                                     [key], {});\n",
              "          if (!dataTable) return;\n",
              "\n",
              "          const docLinkHtml = 'Like what you see? Visit the ' +\n",
              "            '<a target=\"_blank\" href=https://colab.research.google.com/notebooks/data_table.ipynb>data table notebook</a>'\n",
              "            + ' to learn more about interactive tables.';\n",
              "          element.innerHTML = '';\n",
              "          dataTable['output_type'] = 'display_data';\n",
              "          await google.colab.output.renderOutput(dataTable, element);\n",
              "          const docLink = document.createElement('div');\n",
              "          docLink.innerHTML = docLinkHtml;\n",
              "          element.appendChild(docLink);\n",
              "        }\n",
              "      </script>\n",
              "    </div>\n",
              "  </div>\n",
              "  "
            ]
          },
          "metadata": {},
          "execution_count": 4
        }
      ],
      "source": [
        "df=pd.DataFrame({\"Vendedor\":Vendedor,\"Venta\":Venta,\"Descuento\":Descuento,\"Comision\":Comision,\"Horario\":Horario})\n",
        "df"
      ]
    },
    {
      "cell_type": "markdown",
      "metadata": {
        "id": "SMPDJQY10cjt"
      },
      "source": [
        "### Manipulación del dataframe"
      ]
    },
    {
      "cell_type": "markdown",
      "metadata": {
        "id": "nM6wBy7m0cju"
      },
      "source": [
        "#### Agregar datos\n",
        "\n",
        "Agregar el dato:\n",
        "\n",
        "Jose    \"8000\"  \"0.20\"    \"0.01\"    \"Nocturno\""
      ]
    },
    {
      "cell_type": "code",
      "execution_count": null,
      "metadata": {
        "id": "7vf0ohsK0cju",
        "outputId": "6f263f24-d76a-4248-d190-daf6aab1e49f"
      },
      "outputs": [
        {
          "data": {
            "text/html": [
              "<div>\n",
              "<style scoped>\n",
              "    .dataframe tbody tr th:only-of-type {\n",
              "        vertical-align: middle;\n",
              "    }\n",
              "\n",
              "    .dataframe tbody tr th {\n",
              "        vertical-align: top;\n",
              "    }\n",
              "\n",
              "    .dataframe thead th {\n",
              "        text-align: right;\n",
              "    }\n",
              "</style>\n",
              "<table border=\"1\" class=\"dataframe\">\n",
              "  <thead>\n",
              "    <tr style=\"text-align: right;\">\n",
              "      <th></th>\n",
              "      <th>Vendedor</th>\n",
              "      <th>Venta</th>\n",
              "      <th>Descuento</th>\n",
              "      <th>Comision</th>\n",
              "      <th>Horario</th>\n",
              "    </tr>\n",
              "  </thead>\n",
              "  <tbody>\n",
              "    <tr>\n",
              "      <th>0</th>\n",
              "      <td>María</td>\n",
              "      <td>3000</td>\n",
              "      <td>0.1</td>\n",
              "      <td>0.01</td>\n",
              "      <td>Nocturno</td>\n",
              "    </tr>\n",
              "    <tr>\n",
              "      <th>1</th>\n",
              "      <td>Juana</td>\n",
              "      <td>4000</td>\n",
              "      <td>0.2</td>\n",
              "      <td>0.02</td>\n",
              "      <td>Nocturno</td>\n",
              "    </tr>\n",
              "    <tr>\n",
              "      <th>2</th>\n",
              "      <td>María</td>\n",
              "      <td>5000</td>\n",
              "      <td>0.5</td>\n",
              "      <td>0.01</td>\n",
              "      <td>Nocturno</td>\n",
              "    </tr>\n",
              "    <tr>\n",
              "      <th>3</th>\n",
              "      <td>Jose</td>\n",
              "      <td>2000</td>\n",
              "      <td>0.6</td>\n",
              "      <td>0.04</td>\n",
              "      <td>Nocturno</td>\n",
              "    </tr>\n",
              "    <tr>\n",
              "      <th>4</th>\n",
              "      <td>María</td>\n",
              "      <td>6000</td>\n",
              "      <td>0.8</td>\n",
              "      <td>0.01</td>\n",
              "      <td>Nocturno</td>\n",
              "    </tr>\n",
              "    <tr>\n",
              "      <th>5</th>\n",
              "      <td>Juana</td>\n",
              "      <td>7000</td>\n",
              "      <td>NaN</td>\n",
              "      <td>0.02</td>\n",
              "      <td>Nocturno</td>\n",
              "    </tr>\n",
              "    <tr>\n",
              "      <th>6</th>\n",
              "      <td>María</td>\n",
              "      <td>10000</td>\n",
              "      <td>0.3</td>\n",
              "      <td>0.03</td>\n",
              "      <td>Diurno</td>\n",
              "    </tr>\n",
              "    <tr>\n",
              "      <th>7</th>\n",
              "      <td>Jose</td>\n",
              "      <td>7000</td>\n",
              "      <td>0.2</td>\n",
              "      <td>0.00</td>\n",
              "      <td>Diurno</td>\n",
              "    </tr>\n",
              "    <tr>\n",
              "      <th>8</th>\n",
              "      <td>María</td>\n",
              "      <td>3000</td>\n",
              "      <td>0.1</td>\n",
              "      <td>0.05</td>\n",
              "      <td>Diurno</td>\n",
              "    </tr>\n",
              "    <tr>\n",
              "      <th>9</th>\n",
              "      <td>Juana</td>\n",
              "      <td>6000</td>\n",
              "      <td>0.1</td>\n",
              "      <td>0.01</td>\n",
              "      <td>Diurno</td>\n",
              "    </tr>\n",
              "    <tr>\n",
              "      <th>10</th>\n",
              "      <td>Jose</td>\n",
              "      <td>5000</td>\n",
              "      <td>0.2</td>\n",
              "      <td>0.01</td>\n",
              "      <td>Nocturno</td>\n",
              "    </tr>\n",
              "  </tbody>\n",
              "</table>\n",
              "</div>"
            ],
            "text/plain": [
              "   Vendedor  Venta  Descuento  Comision   Horario\n",
              "0     María   3000        0.1      0.01  Nocturno\n",
              "1     Juana   4000        0.2      0.02  Nocturno\n",
              "2     María   5000        0.5      0.01  Nocturno\n",
              "3      Jose   2000        0.6      0.04  Nocturno\n",
              "4     María   6000        0.8      0.01  Nocturno\n",
              "5     Juana   7000        NaN      0.02  Nocturno\n",
              "6     María  10000        0.3      0.03    Diurno\n",
              "7      Jose   7000        0.2      0.00    Diurno\n",
              "8     María   3000        0.1      0.05    Diurno\n",
              "9     Juana   6000        0.1      0.01    Diurno\n",
              "10     Jose   5000        0.2      0.01  Nocturno"
            ]
          },
          "execution_count": 213,
          "metadata": {},
          "output_type": "execute_result"
        }
      ],
      "source": [
        "df.loc[len(df)]=[\"Jose\",5000,0.20,0.01,\"Nocturno\"] \n",
        "df"
      ]
    },
    {
      "cell_type": "markdown",
      "metadata": {
        "id": "XzIx9h7c0cjv"
      },
      "source": [
        "#### Seleccionar los primeros cinco individuos"
      ]
    },
    {
      "cell_type": "code",
      "execution_count": null,
      "metadata": {
        "id": "J-y_RqyE0cjv",
        "outputId": "7314c79e-a332-4862-9847-bbeeab97ecbc"
      },
      "outputs": [
        {
          "data": {
            "text/html": [
              "<div>\n",
              "<style scoped>\n",
              "    .dataframe tbody tr th:only-of-type {\n",
              "        vertical-align: middle;\n",
              "    }\n",
              "\n",
              "    .dataframe tbody tr th {\n",
              "        vertical-align: top;\n",
              "    }\n",
              "\n",
              "    .dataframe thead th {\n",
              "        text-align: right;\n",
              "    }\n",
              "</style>\n",
              "<table border=\"1\" class=\"dataframe\">\n",
              "  <thead>\n",
              "    <tr style=\"text-align: right;\">\n",
              "      <th></th>\n",
              "      <th>Vendedor</th>\n",
              "      <th>Venta</th>\n",
              "      <th>Descuento</th>\n",
              "      <th>Comision</th>\n",
              "      <th>Horario</th>\n",
              "    </tr>\n",
              "  </thead>\n",
              "  <tbody>\n",
              "    <tr>\n",
              "      <th>0</th>\n",
              "      <td>María</td>\n",
              "      <td>3000</td>\n",
              "      <td>0.1</td>\n",
              "      <td>0.01</td>\n",
              "      <td>Nocturno</td>\n",
              "    </tr>\n",
              "    <tr>\n",
              "      <th>1</th>\n",
              "      <td>Juana</td>\n",
              "      <td>4000</td>\n",
              "      <td>0.2</td>\n",
              "      <td>0.02</td>\n",
              "      <td>Nocturno</td>\n",
              "    </tr>\n",
              "    <tr>\n",
              "      <th>2</th>\n",
              "      <td>María</td>\n",
              "      <td>5000</td>\n",
              "      <td>0.5</td>\n",
              "      <td>0.01</td>\n",
              "      <td>Nocturno</td>\n",
              "    </tr>\n",
              "    <tr>\n",
              "      <th>3</th>\n",
              "      <td>Jose</td>\n",
              "      <td>2000</td>\n",
              "      <td>0.6</td>\n",
              "      <td>0.04</td>\n",
              "      <td>Nocturno</td>\n",
              "    </tr>\n",
              "    <tr>\n",
              "      <th>4</th>\n",
              "      <td>María</td>\n",
              "      <td>6000</td>\n",
              "      <td>0.8</td>\n",
              "      <td>0.01</td>\n",
              "      <td>Nocturno</td>\n",
              "    </tr>\n",
              "  </tbody>\n",
              "</table>\n",
              "</div>"
            ],
            "text/plain": [
              "  Vendedor  Venta  Descuento  Comision   Horario\n",
              "0    María   3000        0.1      0.01  Nocturno\n",
              "1    Juana   4000        0.2      0.02  Nocturno\n",
              "2    María   5000        0.5      0.01  Nocturno\n",
              "3     Jose   2000        0.6      0.04  Nocturno\n",
              "4    María   6000        0.8      0.01  Nocturno"
            ]
          },
          "execution_count": 214,
          "metadata": {},
          "output_type": "execute_result"
        }
      ],
      "source": [
        "df_individuos = df[:5]\n",
        "df_individuos"
      ]
    },
    {
      "cell_type": "markdown",
      "metadata": {
        "id": "sBaSa0660cjv"
      },
      "source": [
        "#### Seleccionar el quinto y séptimo individuo"
      ]
    },
    {
      "cell_type": "code",
      "execution_count": null,
      "metadata": {
        "id": "lVkgUYT70cjv",
        "outputId": "d1f8cdaf-0cd6-4d01-c373-c3c863a9058d"
      },
      "outputs": [
        {
          "data": {
            "text/html": [
              "<div>\n",
              "<style scoped>\n",
              "    .dataframe tbody tr th:only-of-type {\n",
              "        vertical-align: middle;\n",
              "    }\n",
              "\n",
              "    .dataframe tbody tr th {\n",
              "        vertical-align: top;\n",
              "    }\n",
              "\n",
              "    .dataframe thead th {\n",
              "        text-align: right;\n",
              "    }\n",
              "</style>\n",
              "<table border=\"1\" class=\"dataframe\">\n",
              "  <thead>\n",
              "    <tr style=\"text-align: right;\">\n",
              "      <th></th>\n",
              "      <th>Vendedor</th>\n",
              "      <th>Venta</th>\n",
              "      <th>Descuento</th>\n",
              "      <th>Comision</th>\n",
              "      <th>Horario</th>\n",
              "    </tr>\n",
              "  </thead>\n",
              "  <tbody>\n",
              "    <tr>\n",
              "      <th>4</th>\n",
              "      <td>María</td>\n",
              "      <td>6000</td>\n",
              "      <td>0.8</td>\n",
              "      <td>0.01</td>\n",
              "      <td>Nocturno</td>\n",
              "    </tr>\n",
              "    <tr>\n",
              "      <th>6</th>\n",
              "      <td>María</td>\n",
              "      <td>10000</td>\n",
              "      <td>0.3</td>\n",
              "      <td>0.03</td>\n",
              "      <td>Diurno</td>\n",
              "    </tr>\n",
              "  </tbody>\n",
              "</table>\n",
              "</div>"
            ],
            "text/plain": [
              "  Vendedor  Venta  Descuento  Comision   Horario\n",
              "4    María   6000        0.8      0.01  Nocturno\n",
              "6    María  10000        0.3      0.03    Diurno"
            ]
          },
          "execution_count": 215,
          "metadata": {},
          "output_type": "execute_result"
        }
      ],
      "source": [
        "df_individuos = df.loc[np.array([4,6])]\n",
        "df_individuos"
      ]
    },
    {
      "cell_type": "markdown",
      "metadata": {
        "id": "gCYdMbCe0cjw"
      },
      "source": [
        "#### Seleccionar las variables Vendedor y Venta"
      ]
    },
    {
      "cell_type": "code",
      "execution_count": null,
      "metadata": {
        "id": "S9IBedaQ0cjw",
        "outputId": "60943d94-c63a-4da3-a884-abb55dfd796f"
      },
      "outputs": [
        {
          "data": {
            "text/html": [
              "<div>\n",
              "<style scoped>\n",
              "    .dataframe tbody tr th:only-of-type {\n",
              "        vertical-align: middle;\n",
              "    }\n",
              "\n",
              "    .dataframe tbody tr th {\n",
              "        vertical-align: top;\n",
              "    }\n",
              "\n",
              "    .dataframe thead th {\n",
              "        text-align: right;\n",
              "    }\n",
              "</style>\n",
              "<table border=\"1\" class=\"dataframe\">\n",
              "  <thead>\n",
              "    <tr style=\"text-align: right;\">\n",
              "      <th></th>\n",
              "      <th>Vendedor</th>\n",
              "      <th>Venta</th>\n",
              "    </tr>\n",
              "  </thead>\n",
              "  <tbody>\n",
              "    <tr>\n",
              "      <th>0</th>\n",
              "      <td>María</td>\n",
              "      <td>3000</td>\n",
              "    </tr>\n",
              "    <tr>\n",
              "      <th>1</th>\n",
              "      <td>Juana</td>\n",
              "      <td>4000</td>\n",
              "    </tr>\n",
              "    <tr>\n",
              "      <th>2</th>\n",
              "      <td>María</td>\n",
              "      <td>5000</td>\n",
              "    </tr>\n",
              "    <tr>\n",
              "      <th>3</th>\n",
              "      <td>Jose</td>\n",
              "      <td>2000</td>\n",
              "    </tr>\n",
              "    <tr>\n",
              "      <th>4</th>\n",
              "      <td>María</td>\n",
              "      <td>6000</td>\n",
              "    </tr>\n",
              "    <tr>\n",
              "      <th>5</th>\n",
              "      <td>Juana</td>\n",
              "      <td>7000</td>\n",
              "    </tr>\n",
              "    <tr>\n",
              "      <th>6</th>\n",
              "      <td>María</td>\n",
              "      <td>10000</td>\n",
              "    </tr>\n",
              "    <tr>\n",
              "      <th>7</th>\n",
              "      <td>Jose</td>\n",
              "      <td>7000</td>\n",
              "    </tr>\n",
              "    <tr>\n",
              "      <th>8</th>\n",
              "      <td>María</td>\n",
              "      <td>3000</td>\n",
              "    </tr>\n",
              "    <tr>\n",
              "      <th>9</th>\n",
              "      <td>Juana</td>\n",
              "      <td>6000</td>\n",
              "    </tr>\n",
              "    <tr>\n",
              "      <th>10</th>\n",
              "      <td>Jose</td>\n",
              "      <td>5000</td>\n",
              "    </tr>\n",
              "  </tbody>\n",
              "</table>\n",
              "</div>"
            ],
            "text/plain": [
              "   Vendedor  Venta\n",
              "0     María   3000\n",
              "1     Juana   4000\n",
              "2     María   5000\n",
              "3      Jose   2000\n",
              "4     María   6000\n",
              "5     Juana   7000\n",
              "6     María  10000\n",
              "7      Jose   7000\n",
              "8     María   3000\n",
              "9     Juana   6000\n",
              "10     Jose   5000"
            ]
          },
          "execution_count": 216,
          "metadata": {},
          "output_type": "execute_result"
        }
      ],
      "source": [
        "df_Variables = df[[\"Vendedor\",\"Venta\"]]\n",
        "df_Variables"
      ]
    },
    {
      "cell_type": "markdown",
      "metadata": {
        "id": "pLOIW_kc0cjw"
      },
      "source": [
        "#### Filtrar los datos por algún valor\n",
        "\n",
        "Seleccionar las ventas de María"
      ]
    },
    {
      "cell_type": "code",
      "execution_count": null,
      "metadata": {
        "id": "Sr977S7M0cjw",
        "outputId": "f1abbdb9-aed7-435a-ab5e-0973fe451582"
      },
      "outputs": [
        {
          "data": {
            "text/html": [
              "<div>\n",
              "<style scoped>\n",
              "    .dataframe tbody tr th:only-of-type {\n",
              "        vertical-align: middle;\n",
              "    }\n",
              "\n",
              "    .dataframe tbody tr th {\n",
              "        vertical-align: top;\n",
              "    }\n",
              "\n",
              "    .dataframe thead th {\n",
              "        text-align: right;\n",
              "    }\n",
              "</style>\n",
              "<table border=\"1\" class=\"dataframe\">\n",
              "  <thead>\n",
              "    <tr style=\"text-align: right;\">\n",
              "      <th></th>\n",
              "      <th>Vendedor</th>\n",
              "      <th>Venta</th>\n",
              "      <th>Descuento</th>\n",
              "      <th>Comision</th>\n",
              "      <th>Horario</th>\n",
              "    </tr>\n",
              "  </thead>\n",
              "  <tbody>\n",
              "    <tr>\n",
              "      <th>0</th>\n",
              "      <td>María</td>\n",
              "      <td>3000</td>\n",
              "      <td>0.1</td>\n",
              "      <td>0.01</td>\n",
              "      <td>Nocturno</td>\n",
              "    </tr>\n",
              "    <tr>\n",
              "      <th>2</th>\n",
              "      <td>María</td>\n",
              "      <td>5000</td>\n",
              "      <td>0.5</td>\n",
              "      <td>0.01</td>\n",
              "      <td>Nocturno</td>\n",
              "    </tr>\n",
              "    <tr>\n",
              "      <th>4</th>\n",
              "      <td>María</td>\n",
              "      <td>6000</td>\n",
              "      <td>0.8</td>\n",
              "      <td>0.01</td>\n",
              "      <td>Nocturno</td>\n",
              "    </tr>\n",
              "    <tr>\n",
              "      <th>6</th>\n",
              "      <td>María</td>\n",
              "      <td>10000</td>\n",
              "      <td>0.3</td>\n",
              "      <td>0.03</td>\n",
              "      <td>Diurno</td>\n",
              "    </tr>\n",
              "    <tr>\n",
              "      <th>8</th>\n",
              "      <td>María</td>\n",
              "      <td>3000</td>\n",
              "      <td>0.1</td>\n",
              "      <td>0.05</td>\n",
              "      <td>Diurno</td>\n",
              "    </tr>\n",
              "  </tbody>\n",
              "</table>\n",
              "</div>"
            ],
            "text/plain": [
              "  Vendedor  Venta  Descuento  Comision   Horario\n",
              "0    María   3000        0.1      0.01  Nocturno\n",
              "2    María   5000        0.5      0.01  Nocturno\n",
              "4    María   6000        0.8      0.01  Nocturno\n",
              "6    María  10000        0.3      0.03    Diurno\n",
              "8    María   3000        0.1      0.05    Diurno"
            ]
          },
          "execution_count": 217,
          "metadata": {},
          "output_type": "execute_result"
        }
      ],
      "source": [
        "df_Maria = df[df[\"Vendedor\"]==\"María\"]\n",
        "df_Maria"
      ]
    },
    {
      "cell_type": "markdown",
      "metadata": {
        "id": "3oY2oaaK0cjx"
      },
      "source": [
        "Seleccionar las ventas con comisión igual al 0.01"
      ]
    },
    {
      "cell_type": "code",
      "execution_count": null,
      "metadata": {
        "id": "rIKWj47k0cjx",
        "outputId": "b87ddf24-df93-4f5f-870f-1e9ea12305f8"
      },
      "outputs": [
        {
          "data": {
            "text/html": [
              "<div>\n",
              "<style scoped>\n",
              "    .dataframe tbody tr th:only-of-type {\n",
              "        vertical-align: middle;\n",
              "    }\n",
              "\n",
              "    .dataframe tbody tr th {\n",
              "        vertical-align: top;\n",
              "    }\n",
              "\n",
              "    .dataframe thead th {\n",
              "        text-align: right;\n",
              "    }\n",
              "</style>\n",
              "<table border=\"1\" class=\"dataframe\">\n",
              "  <thead>\n",
              "    <tr style=\"text-align: right;\">\n",
              "      <th></th>\n",
              "      <th>Vendedor</th>\n",
              "      <th>Venta</th>\n",
              "      <th>Descuento</th>\n",
              "      <th>Comision</th>\n",
              "      <th>Horario</th>\n",
              "    </tr>\n",
              "  </thead>\n",
              "  <tbody>\n",
              "    <tr>\n",
              "      <th>0</th>\n",
              "      <td>María</td>\n",
              "      <td>3000</td>\n",
              "      <td>0.1</td>\n",
              "      <td>0.01</td>\n",
              "      <td>Nocturno</td>\n",
              "    </tr>\n",
              "    <tr>\n",
              "      <th>2</th>\n",
              "      <td>María</td>\n",
              "      <td>5000</td>\n",
              "      <td>0.5</td>\n",
              "      <td>0.01</td>\n",
              "      <td>Nocturno</td>\n",
              "    </tr>\n",
              "    <tr>\n",
              "      <th>4</th>\n",
              "      <td>María</td>\n",
              "      <td>6000</td>\n",
              "      <td>0.8</td>\n",
              "      <td>0.01</td>\n",
              "      <td>Nocturno</td>\n",
              "    </tr>\n",
              "    <tr>\n",
              "      <th>9</th>\n",
              "      <td>Juana</td>\n",
              "      <td>6000</td>\n",
              "      <td>0.1</td>\n",
              "      <td>0.01</td>\n",
              "      <td>Diurno</td>\n",
              "    </tr>\n",
              "    <tr>\n",
              "      <th>10</th>\n",
              "      <td>Jose</td>\n",
              "      <td>5000</td>\n",
              "      <td>0.2</td>\n",
              "      <td>0.01</td>\n",
              "      <td>Nocturno</td>\n",
              "    </tr>\n",
              "  </tbody>\n",
              "</table>\n",
              "</div>"
            ],
            "text/plain": [
              "   Vendedor  Venta  Descuento  Comision   Horario\n",
              "0     María   3000        0.1      0.01  Nocturno\n",
              "2     María   5000        0.5      0.01  Nocturno\n",
              "4     María   6000        0.8      0.01  Nocturno\n",
              "9     Juana   6000        0.1      0.01    Diurno\n",
              "10     Jose   5000        0.2      0.01  Nocturno"
            ]
          },
          "execution_count": 218,
          "metadata": {},
          "output_type": "execute_result"
        }
      ],
      "source": [
        "df_comision = df[df[\"Comision\"].isin([0.01])]\n",
        "df_comision"
      ]
    },
    {
      "cell_type": "markdown",
      "metadata": {
        "id": "ywacagyx0cjx"
      },
      "source": [
        "Seleccionar las ventas con descuento mayor al 20%"
      ]
    },
    {
      "cell_type": "code",
      "execution_count": null,
      "metadata": {
        "id": "2hs8WfPm0cjx",
        "outputId": "8382155b-4f6d-4556-be59-74fcdadbb724"
      },
      "outputs": [
        {
          "data": {
            "text/html": [
              "<div>\n",
              "<style scoped>\n",
              "    .dataframe tbody tr th:only-of-type {\n",
              "        vertical-align: middle;\n",
              "    }\n",
              "\n",
              "    .dataframe tbody tr th {\n",
              "        vertical-align: top;\n",
              "    }\n",
              "\n",
              "    .dataframe thead th {\n",
              "        text-align: right;\n",
              "    }\n",
              "</style>\n",
              "<table border=\"1\" class=\"dataframe\">\n",
              "  <thead>\n",
              "    <tr style=\"text-align: right;\">\n",
              "      <th></th>\n",
              "      <th>Vendedor</th>\n",
              "      <th>Venta</th>\n",
              "      <th>Descuento</th>\n",
              "      <th>Comision</th>\n",
              "      <th>Horario</th>\n",
              "    </tr>\n",
              "  </thead>\n",
              "  <tbody>\n",
              "    <tr>\n",
              "      <th>2</th>\n",
              "      <td>María</td>\n",
              "      <td>5000</td>\n",
              "      <td>0.5</td>\n",
              "      <td>0.01</td>\n",
              "      <td>Nocturno</td>\n",
              "    </tr>\n",
              "    <tr>\n",
              "      <th>3</th>\n",
              "      <td>Jose</td>\n",
              "      <td>2000</td>\n",
              "      <td>0.6</td>\n",
              "      <td>0.04</td>\n",
              "      <td>Nocturno</td>\n",
              "    </tr>\n",
              "    <tr>\n",
              "      <th>4</th>\n",
              "      <td>María</td>\n",
              "      <td>6000</td>\n",
              "      <td>0.8</td>\n",
              "      <td>0.01</td>\n",
              "      <td>Nocturno</td>\n",
              "    </tr>\n",
              "    <tr>\n",
              "      <th>6</th>\n",
              "      <td>María</td>\n",
              "      <td>10000</td>\n",
              "      <td>0.3</td>\n",
              "      <td>0.03</td>\n",
              "      <td>Diurno</td>\n",
              "    </tr>\n",
              "  </tbody>\n",
              "</table>\n",
              "</div>"
            ],
            "text/plain": [
              "  Vendedor  Venta  Descuento  Comision   Horario\n",
              "2    María   5000        0.5      0.01  Nocturno\n",
              "3     Jose   2000        0.6      0.04  Nocturno\n",
              "4    María   6000        0.8      0.01  Nocturno\n",
              "6    María  10000        0.3      0.03    Diurno"
            ]
          },
          "execution_count": 219,
          "metadata": {},
          "output_type": "execute_result"
        }
      ],
      "source": [
        "df_descuento = df[df[\"Descuento\"]>0.2]\n",
        "df_descuento"
      ]
    },
    {
      "cell_type": "markdown",
      "metadata": {
        "id": "VqV6eMYT0cjy"
      },
      "source": [
        "Eliminar filas si alguna tiene un valor perdido"
      ]
    },
    {
      "cell_type": "code",
      "execution_count": null,
      "metadata": {
        "id": "dL-YNcJN0cjy",
        "outputId": "a5a79c89-b410-4949-bbf7-a0eed6f1e641"
      },
      "outputs": [
        {
          "data": {
            "text/html": [
              "<div>\n",
              "<style scoped>\n",
              "    .dataframe tbody tr th:only-of-type {\n",
              "        vertical-align: middle;\n",
              "    }\n",
              "\n",
              "    .dataframe tbody tr th {\n",
              "        vertical-align: top;\n",
              "    }\n",
              "\n",
              "    .dataframe thead th {\n",
              "        text-align: right;\n",
              "    }\n",
              "</style>\n",
              "<table border=\"1\" class=\"dataframe\">\n",
              "  <thead>\n",
              "    <tr style=\"text-align: right;\">\n",
              "      <th></th>\n",
              "      <th>Vendedor</th>\n",
              "      <th>Venta</th>\n",
              "      <th>Descuento</th>\n",
              "      <th>Comision</th>\n",
              "      <th>Horario</th>\n",
              "    </tr>\n",
              "  </thead>\n",
              "  <tbody>\n",
              "    <tr>\n",
              "      <th>0</th>\n",
              "      <td>María</td>\n",
              "      <td>3000</td>\n",
              "      <td>0.1</td>\n",
              "      <td>0.01</td>\n",
              "      <td>Nocturno</td>\n",
              "    </tr>\n",
              "    <tr>\n",
              "      <th>1</th>\n",
              "      <td>Juana</td>\n",
              "      <td>4000</td>\n",
              "      <td>0.2</td>\n",
              "      <td>0.02</td>\n",
              "      <td>Nocturno</td>\n",
              "    </tr>\n",
              "    <tr>\n",
              "      <th>2</th>\n",
              "      <td>María</td>\n",
              "      <td>5000</td>\n",
              "      <td>0.5</td>\n",
              "      <td>0.01</td>\n",
              "      <td>Nocturno</td>\n",
              "    </tr>\n",
              "    <tr>\n",
              "      <th>3</th>\n",
              "      <td>Jose</td>\n",
              "      <td>2000</td>\n",
              "      <td>0.6</td>\n",
              "      <td>0.04</td>\n",
              "      <td>Nocturno</td>\n",
              "    </tr>\n",
              "    <tr>\n",
              "      <th>4</th>\n",
              "      <td>María</td>\n",
              "      <td>6000</td>\n",
              "      <td>0.8</td>\n",
              "      <td>0.01</td>\n",
              "      <td>Nocturno</td>\n",
              "    </tr>\n",
              "    <tr>\n",
              "      <th>6</th>\n",
              "      <td>María</td>\n",
              "      <td>10000</td>\n",
              "      <td>0.3</td>\n",
              "      <td>0.03</td>\n",
              "      <td>Diurno</td>\n",
              "    </tr>\n",
              "    <tr>\n",
              "      <th>7</th>\n",
              "      <td>Jose</td>\n",
              "      <td>7000</td>\n",
              "      <td>0.2</td>\n",
              "      <td>0.00</td>\n",
              "      <td>Diurno</td>\n",
              "    </tr>\n",
              "    <tr>\n",
              "      <th>8</th>\n",
              "      <td>María</td>\n",
              "      <td>3000</td>\n",
              "      <td>0.1</td>\n",
              "      <td>0.05</td>\n",
              "      <td>Diurno</td>\n",
              "    </tr>\n",
              "    <tr>\n",
              "      <th>9</th>\n",
              "      <td>Juana</td>\n",
              "      <td>6000</td>\n",
              "      <td>0.1</td>\n",
              "      <td>0.01</td>\n",
              "      <td>Diurno</td>\n",
              "    </tr>\n",
              "    <tr>\n",
              "      <th>10</th>\n",
              "      <td>Jose</td>\n",
              "      <td>5000</td>\n",
              "      <td>0.2</td>\n",
              "      <td>0.01</td>\n",
              "      <td>Nocturno</td>\n",
              "    </tr>\n",
              "  </tbody>\n",
              "</table>\n",
              "</div>"
            ],
            "text/plain": [
              "   Vendedor  Venta  Descuento  Comision   Horario\n",
              "0     María   3000        0.1      0.01  Nocturno\n",
              "1     Juana   4000        0.2      0.02  Nocturno\n",
              "2     María   5000        0.5      0.01  Nocturno\n",
              "3      Jose   2000        0.6      0.04  Nocturno\n",
              "4     María   6000        0.8      0.01  Nocturno\n",
              "6     María  10000        0.3      0.03    Diurno\n",
              "7      Jose   7000        0.2      0.00    Diurno\n",
              "8     María   3000        0.1      0.05    Diurno\n",
              "9     Juana   6000        0.1      0.01    Diurno\n",
              "10     Jose   5000        0.2      0.01  Nocturno"
            ]
          },
          "execution_count": 220,
          "metadata": {},
          "output_type": "execute_result"
        }
      ],
      "source": [
        "df.dropna()"
      ]
    },
    {
      "cell_type": "markdown",
      "metadata": {
        "id": "kWISctEj0cjy"
      },
      "source": [
        "### Guardar y cargar un dataframe\n",
        "\n",
        "Guardar el dataframe como un archivo pickled"
      ]
    },
    {
      "cell_type": "code",
      "execution_count": null,
      "metadata": {
        "id": "K7w-mP7g0cjy"
      },
      "outputs": [],
      "source": [
        "df.to_pickle(\"Ventas Diarias.plk\") # guarda como un archivo .plk"
      ]
    },
    {
      "cell_type": "markdown",
      "metadata": {
        "id": "g5UIwJ5P0cjy"
      },
      "source": [
        "Cargar el archivo pickled"
      ]
    },
    {
      "cell_type": "code",
      "execution_count": null,
      "metadata": {
        "id": "AWes2fcR0cjy",
        "outputId": "44c61de6-1696-4b52-9cc5-c88b2e5bb838"
      },
      "outputs": [
        {
          "data": {
            "text/html": [
              "<div>\n",
              "<style scoped>\n",
              "    .dataframe tbody tr th:only-of-type {\n",
              "        vertical-align: middle;\n",
              "    }\n",
              "\n",
              "    .dataframe tbody tr th {\n",
              "        vertical-align: top;\n",
              "    }\n",
              "\n",
              "    .dataframe thead th {\n",
              "        text-align: right;\n",
              "    }\n",
              "</style>\n",
              "<table border=\"1\" class=\"dataframe\">\n",
              "  <thead>\n",
              "    <tr style=\"text-align: right;\">\n",
              "      <th></th>\n",
              "      <th>Vendedor</th>\n",
              "      <th>Venta</th>\n",
              "      <th>Descuento</th>\n",
              "      <th>Comision</th>\n",
              "      <th>Horario</th>\n",
              "    </tr>\n",
              "  </thead>\n",
              "  <tbody>\n",
              "    <tr>\n",
              "      <th>0</th>\n",
              "      <td>María</td>\n",
              "      <td>3000</td>\n",
              "      <td>0.1</td>\n",
              "      <td>0.01</td>\n",
              "      <td>Nocturno</td>\n",
              "    </tr>\n",
              "    <tr>\n",
              "      <th>1</th>\n",
              "      <td>Juana</td>\n",
              "      <td>4000</td>\n",
              "      <td>0.2</td>\n",
              "      <td>0.02</td>\n",
              "      <td>Nocturno</td>\n",
              "    </tr>\n",
              "    <tr>\n",
              "      <th>2</th>\n",
              "      <td>María</td>\n",
              "      <td>5000</td>\n",
              "      <td>0.5</td>\n",
              "      <td>0.01</td>\n",
              "      <td>Nocturno</td>\n",
              "    </tr>\n",
              "    <tr>\n",
              "      <th>3</th>\n",
              "      <td>Jose</td>\n",
              "      <td>2000</td>\n",
              "      <td>0.6</td>\n",
              "      <td>0.04</td>\n",
              "      <td>Nocturno</td>\n",
              "    </tr>\n",
              "    <tr>\n",
              "      <th>4</th>\n",
              "      <td>María</td>\n",
              "      <td>6000</td>\n",
              "      <td>0.8</td>\n",
              "      <td>0.01</td>\n",
              "      <td>Nocturno</td>\n",
              "    </tr>\n",
              "    <tr>\n",
              "      <th>5</th>\n",
              "      <td>Juana</td>\n",
              "      <td>7000</td>\n",
              "      <td>0.1</td>\n",
              "      <td>0.02</td>\n",
              "      <td>Nocturno</td>\n",
              "    </tr>\n",
              "    <tr>\n",
              "      <th>6</th>\n",
              "      <td>María</td>\n",
              "      <td>10000</td>\n",
              "      <td>0.3</td>\n",
              "      <td>0.03</td>\n",
              "      <td>Diurno</td>\n",
              "    </tr>\n",
              "    <tr>\n",
              "      <th>7</th>\n",
              "      <td>None</td>\n",
              "      <td>7000</td>\n",
              "      <td>0.4</td>\n",
              "      <td>0.00</td>\n",
              "      <td>Diurno</td>\n",
              "    </tr>\n",
              "    <tr>\n",
              "      <th>8</th>\n",
              "      <td>María</td>\n",
              "      <td>3000</td>\n",
              "      <td>None</td>\n",
              "      <td>0.05</td>\n",
              "      <td>Diurno</td>\n",
              "    </tr>\n",
              "    <tr>\n",
              "      <th>9</th>\n",
              "      <td>Juana</td>\n",
              "      <td>6000</td>\n",
              "      <td>0.1</td>\n",
              "      <td>0.01</td>\n",
              "      <td>Diurno</td>\n",
              "    </tr>\n",
              "    <tr>\n",
              "      <th>10</th>\n",
              "      <td>Jose</td>\n",
              "      <td>5000</td>\n",
              "      <td>0.2</td>\n",
              "      <td>0.01</td>\n",
              "      <td>Nocturno</td>\n",
              "    </tr>\n",
              "  </tbody>\n",
              "</table>\n",
              "</div>"
            ],
            "text/plain": [
              "   Vendedor  Venta Descuento  Comision   Horario\n",
              "0     María   3000       0.1      0.01  Nocturno\n",
              "1     Juana   4000       0.2      0.02  Nocturno\n",
              "2     María   5000       0.5      0.01  Nocturno\n",
              "3      Jose   2000       0.6      0.04  Nocturno\n",
              "4     María   6000       0.8      0.01  Nocturno\n",
              "5     Juana   7000       0.1      0.02  Nocturno\n",
              "6     María  10000       0.3      0.03    Diurno\n",
              "7      None   7000       0.4      0.00    Diurno\n",
              "8     María   3000      None      0.05    Diurno\n",
              "9     Juana   6000       0.1      0.01    Diurno\n",
              "10     Jose   5000       0.2      0.01  Nocturno"
            ]
          },
          "execution_count": 153,
          "metadata": {},
          "output_type": "execute_result"
        }
      ],
      "source": [
        "DataFrame= pd.read_pickle(\"Ventas Diarias.plk\")\n",
        "DataFrame\n"
      ]
    },
    {
      "cell_type": "markdown",
      "metadata": {
        "id": "1t2PeohC0cjz"
      },
      "source": [
        "### Exportar archivos"
      ]
    },
    {
      "cell_type": "code",
      "execution_count": null,
      "metadata": {
        "id": "8A8P0TL10cjz"
      },
      "outputs": [],
      "source": [
        "df.to_csv(\"Ventas.csv\",header=True,sep=\";\")"
      ]
    },
    {
      "cell_type": "markdown",
      "metadata": {
        "id": "HKnHgGcX0cjz"
      },
      "source": [
        "### Importar archivos"
      ]
    },
    {
      "cell_type": "code",
      "execution_count": null,
      "metadata": {
        "id": "VJgtOYHx0cjz",
        "outputId": "41cc36b4-a7fa-4f1e-f0df-c744a1ac1e1a"
      },
      "outputs": [
        {
          "data": {
            "text/html": [
              "<div>\n",
              "<style scoped>\n",
              "    .dataframe tbody tr th:only-of-type {\n",
              "        vertical-align: middle;\n",
              "    }\n",
              "\n",
              "    .dataframe tbody tr th {\n",
              "        vertical-align: top;\n",
              "    }\n",
              "\n",
              "    .dataframe thead th {\n",
              "        text-align: right;\n",
              "    }\n",
              "</style>\n",
              "<table border=\"1\" class=\"dataframe\">\n",
              "  <thead>\n",
              "    <tr style=\"text-align: right;\">\n",
              "      <th></th>\n",
              "      <th>Unnamed: 0</th>\n",
              "      <th>Vendedor</th>\n",
              "      <th>Venta</th>\n",
              "      <th>Descuento</th>\n",
              "      <th>Comision</th>\n",
              "      <th>Horario</th>\n",
              "    </tr>\n",
              "  </thead>\n",
              "  <tbody>\n",
              "    <tr>\n",
              "      <th>0</th>\n",
              "      <td>0</td>\n",
              "      <td>MarÃ­a</td>\n",
              "      <td>3000</td>\n",
              "      <td>0.1</td>\n",
              "      <td>0.01</td>\n",
              "      <td>Nocturno</td>\n",
              "    </tr>\n",
              "    <tr>\n",
              "      <th>1</th>\n",
              "      <td>1</td>\n",
              "      <td>Juana</td>\n",
              "      <td>4000</td>\n",
              "      <td>0.2</td>\n",
              "      <td>0.02</td>\n",
              "      <td>Nocturno</td>\n",
              "    </tr>\n",
              "    <tr>\n",
              "      <th>2</th>\n",
              "      <td>2</td>\n",
              "      <td>MarÃ­a</td>\n",
              "      <td>5000</td>\n",
              "      <td>0.5</td>\n",
              "      <td>0.01</td>\n",
              "      <td>Nocturno</td>\n",
              "    </tr>\n",
              "    <tr>\n",
              "      <th>3</th>\n",
              "      <td>3</td>\n",
              "      <td>Jose</td>\n",
              "      <td>2000</td>\n",
              "      <td>0.6</td>\n",
              "      <td>0.04</td>\n",
              "      <td>Nocturno</td>\n",
              "    </tr>\n",
              "    <tr>\n",
              "      <th>4</th>\n",
              "      <td>4</td>\n",
              "      <td>MarÃ­a</td>\n",
              "      <td>6000</td>\n",
              "      <td>0.8</td>\n",
              "      <td>0.01</td>\n",
              "      <td>Nocturno</td>\n",
              "    </tr>\n",
              "    <tr>\n",
              "      <th>5</th>\n",
              "      <td>5</td>\n",
              "      <td>Juana</td>\n",
              "      <td>7000</td>\n",
              "      <td>NaN</td>\n",
              "      <td>0.02</td>\n",
              "      <td>Nocturno</td>\n",
              "    </tr>\n",
              "    <tr>\n",
              "      <th>6</th>\n",
              "      <td>6</td>\n",
              "      <td>MarÃ­a</td>\n",
              "      <td>10000</td>\n",
              "      <td>0.3</td>\n",
              "      <td>0.03</td>\n",
              "      <td>Diurno</td>\n",
              "    </tr>\n",
              "    <tr>\n",
              "      <th>7</th>\n",
              "      <td>7</td>\n",
              "      <td>Jose</td>\n",
              "      <td>7000</td>\n",
              "      <td>0.2</td>\n",
              "      <td>0.00</td>\n",
              "      <td>Diurno</td>\n",
              "    </tr>\n",
              "    <tr>\n",
              "      <th>8</th>\n",
              "      <td>8</td>\n",
              "      <td>MarÃ­a</td>\n",
              "      <td>3000</td>\n",
              "      <td>0.1</td>\n",
              "      <td>0.05</td>\n",
              "      <td>Diurno</td>\n",
              "    </tr>\n",
              "    <tr>\n",
              "      <th>9</th>\n",
              "      <td>9</td>\n",
              "      <td>Juana</td>\n",
              "      <td>6000</td>\n",
              "      <td>0.1</td>\n",
              "      <td>0.01</td>\n",
              "      <td>Diurno</td>\n",
              "    </tr>\n",
              "  </tbody>\n",
              "</table>\n",
              "</div>"
            ],
            "text/plain": [
              "   Unnamed: 0 Vendedor  Venta  Descuento  Comision   Horario\n",
              "0           0   MarÃ­a   3000        0.1      0.01  Nocturno\n",
              "1           1    Juana   4000        0.2      0.02  Nocturno\n",
              "2           2   MarÃ­a   5000        0.5      0.01  Nocturno\n",
              "3           3     Jose   2000        0.6      0.04  Nocturno\n",
              "4           4   MarÃ­a   6000        0.8      0.01  Nocturno\n",
              "5           5    Juana   7000        NaN      0.02  Nocturno\n",
              "6           6   MarÃ­a  10000        0.3      0.03    Diurno\n",
              "7           7     Jose   7000        0.2      0.00    Diurno\n",
              "8           8   MarÃ­a   3000        0.1      0.05    Diurno\n",
              "9           9    Juana   6000        0.1      0.01    Diurno"
            ]
          },
          "execution_count": 194,
          "metadata": {},
          "output_type": "execute_result"
        }
      ],
      "source": [
        "#pd.read_csv(\"Ventas.csv\",sep=\"\\t\")\n",
        "datos=pd.read_excel('VentasXls.xlsx', sheetname='VentasXls')\n",
        "datos"
      ]
    },
    {
      "cell_type": "markdown",
      "metadata": {
        "id": "6-72C0k80cj0"
      },
      "source": [
        "## Taller\n",
        "\n",
        "Cree un dataframe con el nombre df1 con los siguientes datos:\n",
        "\n",
        "Jose     \"6000\"  \"0.20\"    \"0.01\"    \"Nocturno\"\\\n",
        "Maria    \"6500\"  \"0.10\"    \"0.02\"    \"Diurno\"\\\n",
        "Juana    \"4000\"  \"0.30\"    \"0.03\"    \"Diurno\"\\\n",
        "Jose     \"2000\"  \"0.10\"    \"0.02\"    \"Diurno\"\\\n",
        "Juana    \"1500\"  \"0.30\"    \"0.03\"    \"Diurno\"\n",
        "\n",
        "Una estos datos al anterior dataframe utilizando el comando\n",
        "\n",
        "df.append(df1, ignore_index = True)"
      ]
    },
    {
      "cell_type": "markdown",
      "metadata": {
        "id": "YyLuULLm0cj0"
      },
      "source": [
        "## Cálculo de las principales medidas estadísticas\n",
        "\n",
        "### Variables numéricas\n",
        "\n",
        "Medidas de tendencia central: Media.\n",
        "\n",
        "Medidas de dispersión: Desviación estándar y cuartiles"
      ]
    },
    {
      "cell_type": "code",
      "execution_count": null,
      "metadata": {
        "id": "8UDvRgZ80cj0",
        "outputId": "e47d0796-693e-4b65-98be-8ffec4a62797"
      },
      "outputs": [
        {
          "data": {
            "text/html": [
              "<div>\n",
              "<style scoped>\n",
              "    .dataframe tbody tr th:only-of-type {\n",
              "        vertical-align: middle;\n",
              "    }\n",
              "\n",
              "    .dataframe tbody tr th {\n",
              "        vertical-align: top;\n",
              "    }\n",
              "\n",
              "    .dataframe thead th {\n",
              "        text-align: right;\n",
              "    }\n",
              "</style>\n",
              "<table border=\"1\" class=\"dataframe\">\n",
              "  <thead>\n",
              "    <tr style=\"text-align: right;\">\n",
              "      <th></th>\n",
              "      <th>Venta</th>\n",
              "      <th>Descuento</th>\n",
              "      <th>Comision</th>\n",
              "    </tr>\n",
              "  </thead>\n",
              "  <tbody>\n",
              "    <tr>\n",
              "      <th>count</th>\n",
              "      <td>10.000000</td>\n",
              "      <td>9.000000</td>\n",
              "      <td>10.000000</td>\n",
              "    </tr>\n",
              "    <tr>\n",
              "      <th>mean</th>\n",
              "      <td>5300.000000</td>\n",
              "      <td>0.322222</td>\n",
              "      <td>0.020000</td>\n",
              "    </tr>\n",
              "    <tr>\n",
              "      <th>std</th>\n",
              "      <td>2406.010991</td>\n",
              "      <td>0.253859</td>\n",
              "      <td>0.015635</td>\n",
              "    </tr>\n",
              "    <tr>\n",
              "      <th>min</th>\n",
              "      <td>2000.000000</td>\n",
              "      <td>0.100000</td>\n",
              "      <td>0.000000</td>\n",
              "    </tr>\n",
              "    <tr>\n",
              "      <th>25%</th>\n",
              "      <td>3250.000000</td>\n",
              "      <td>0.100000</td>\n",
              "      <td>0.010000</td>\n",
              "    </tr>\n",
              "    <tr>\n",
              "      <th>50%</th>\n",
              "      <td>5500.000000</td>\n",
              "      <td>0.200000</td>\n",
              "      <td>0.015000</td>\n",
              "    </tr>\n",
              "    <tr>\n",
              "      <th>75%</th>\n",
              "      <td>6750.000000</td>\n",
              "      <td>0.500000</td>\n",
              "      <td>0.027500</td>\n",
              "    </tr>\n",
              "    <tr>\n",
              "      <th>max</th>\n",
              "      <td>10000.000000</td>\n",
              "      <td>0.800000</td>\n",
              "      <td>0.050000</td>\n",
              "    </tr>\n",
              "  </tbody>\n",
              "</table>\n",
              "</div>"
            ],
            "text/plain": [
              "              Venta  Descuento   Comision\n",
              "count     10.000000   9.000000  10.000000\n",
              "mean    5300.000000   0.322222   0.020000\n",
              "std     2406.010991   0.253859   0.015635\n",
              "min     2000.000000   0.100000   0.000000\n",
              "25%     3250.000000   0.100000   0.010000\n",
              "50%     5500.000000   0.200000   0.015000\n",
              "75%     6750.000000   0.500000   0.027500\n",
              "max    10000.000000   0.800000   0.050000"
            ]
          },
          "execution_count": 197,
          "metadata": {},
          "output_type": "execute_result"
        }
      ],
      "source": [
        "df.describe() #Medidas básicas"
      ]
    },
    {
      "cell_type": "code",
      "execution_count": null,
      "metadata": {
        "scrolled": true,
        "id": "A6wbvcWk0cj0",
        "outputId": "a768dda8-954e-481a-cb4d-5d0536a46091"
      },
      "outputs": [
        {
          "data": {
            "text/plain": [
              "Venta        5500.000\n",
              "Descuento       0.200\n",
              "Comision        0.015\n",
              "dtype: float64"
            ]
          },
          "execution_count": 10,
          "metadata": {},
          "output_type": "execute_result"
        }
      ],
      "source": [
        "df.median() # Mediana"
      ]
    },
    {
      "cell_type": "code",
      "execution_count": null,
      "metadata": {
        "id": "KPnLPOmm0cj0",
        "outputId": "04f4b1b1-1b8d-4a76-c76a-3f993bea080c"
      },
      "outputs": [
        {
          "data": {
            "text/html": [
              "<div>\n",
              "<style scoped>\n",
              "    .dataframe tbody tr th:only-of-type {\n",
              "        vertical-align: middle;\n",
              "    }\n",
              "\n",
              "    .dataframe tbody tr th {\n",
              "        vertical-align: top;\n",
              "    }\n",
              "\n",
              "    .dataframe thead th {\n",
              "        text-align: right;\n",
              "    }\n",
              "</style>\n",
              "<table border=\"1\" class=\"dataframe\">\n",
              "  <thead>\n",
              "    <tr style=\"text-align: right;\">\n",
              "      <th></th>\n",
              "      <th>Vendedor</th>\n",
              "      <th>Venta</th>\n",
              "      <th>Descuento</th>\n",
              "      <th>Comision</th>\n",
              "      <th>Horario</th>\n",
              "    </tr>\n",
              "  </thead>\n",
              "  <tbody>\n",
              "    <tr>\n",
              "      <th>0</th>\n",
              "      <td>Maria</td>\n",
              "      <td>3000</td>\n",
              "      <td>0.1</td>\n",
              "      <td>0.01</td>\n",
              "      <td>Nocturno</td>\n",
              "    </tr>\n",
              "    <tr>\n",
              "      <th>1</th>\n",
              "      <td>NaN</td>\n",
              "      <td>6000</td>\n",
              "      <td>NaN</td>\n",
              "      <td>NaN</td>\n",
              "      <td>NaN</td>\n",
              "    </tr>\n",
              "    <tr>\n",
              "      <th>2</th>\n",
              "      <td>NaN</td>\n",
              "      <td>7000</td>\n",
              "      <td>NaN</td>\n",
              "      <td>NaN</td>\n",
              "      <td>NaN</td>\n",
              "    </tr>\n",
              "  </tbody>\n",
              "</table>\n",
              "</div>"
            ],
            "text/plain": [
              "  Vendedor  Venta  Descuento  Comision   Horario\n",
              "0    Maria   3000        0.1      0.01  Nocturno\n",
              "1      NaN   6000        NaN       NaN       NaN\n",
              "2      NaN   7000        NaN       NaN       NaN"
            ]
          },
          "execution_count": 11,
          "metadata": {},
          "output_type": "execute_result"
        }
      ],
      "source": [
        "df.mode() # Moda"
      ]
    },
    {
      "cell_type": "code",
      "execution_count": null,
      "metadata": {
        "id": "tjbNiCPs0cj1",
        "outputId": "5c5931f7-1509-4990-8b45-d204c93f7381"
      },
      "outputs": [
        {
          "data": {
            "text/plain": [
              "Venta        0.575042\n",
              "Descuento    1.029948\n",
              "Comision     1.031232\n",
              "dtype: float64"
            ]
          },
          "execution_count": 137,
          "metadata": {},
          "output_type": "execute_result"
        }
      ],
      "source": [
        "df.skew()  # Asimetría"
      ]
    },
    {
      "cell_type": "code",
      "execution_count": null,
      "metadata": {
        "id": "1K2jC-t80cj1",
        "outputId": "5f8f008f-3eba-463a-cb42-f6a1f2e37bd8"
      },
      "outputs": [
        {
          "data": {
            "text/plain": [
              "Venta        0.468744\n",
              "Descuento    0.212774\n",
              "Comision     0.322184\n",
              "dtype: float64"
            ]
          },
          "execution_count": 138,
          "metadata": {},
          "output_type": "execute_result"
        }
      ],
      "source": [
        "df.kurt() # Curtosis"
      ]
    },
    {
      "cell_type": "markdown",
      "metadata": {
        "id": "9E77uOkC0cj1"
      },
      "source": [
        "Obtención de medidas por agrupación"
      ]
    },
    {
      "cell_type": "code",
      "execution_count": null,
      "metadata": {
        "id": "3mlMVJv00cj1",
        "outputId": "76741473-44be-4446-964f-2b2308480b03"
      },
      "outputs": [
        {
          "data": {
            "text/html": [
              "<div>\n",
              "<style scoped>\n",
              "    .dataframe tbody tr th:only-of-type {\n",
              "        vertical-align: middle;\n",
              "    }\n",
              "\n",
              "    .dataframe tbody tr th {\n",
              "        vertical-align: top;\n",
              "    }\n",
              "\n",
              "    .dataframe thead th {\n",
              "        text-align: right;\n",
              "    }\n",
              "</style>\n",
              "<table border=\"1\" class=\"dataframe\">\n",
              "  <thead>\n",
              "    <tr style=\"text-align: right;\">\n",
              "      <th></th>\n",
              "      <th>Venta</th>\n",
              "      <th>Descuento</th>\n",
              "      <th>Comision</th>\n",
              "    </tr>\n",
              "    <tr>\n",
              "      <th>Vendedor</th>\n",
              "      <th></th>\n",
              "      <th></th>\n",
              "      <th></th>\n",
              "    </tr>\n",
              "  </thead>\n",
              "  <tbody>\n",
              "    <tr>\n",
              "      <th>Jose</th>\n",
              "      <td>3500.000000</td>\n",
              "      <td>0.400000</td>\n",
              "      <td>0.025000</td>\n",
              "    </tr>\n",
              "    <tr>\n",
              "      <th>Juana</th>\n",
              "      <td>5666.666667</td>\n",
              "      <td>0.133333</td>\n",
              "      <td>0.016667</td>\n",
              "    </tr>\n",
              "    <tr>\n",
              "      <th>María</th>\n",
              "      <td>5400.000000</td>\n",
              "      <td>0.380000</td>\n",
              "      <td>0.022000</td>\n",
              "    </tr>\n",
              "  </tbody>\n",
              "</table>\n",
              "</div>"
            ],
            "text/plain": [
              "                Venta  Descuento  Comision\n",
              "Vendedor                                  \n",
              "Jose      3500.000000   0.400000  0.025000\n",
              "Juana     5666.666667   0.133333  0.016667\n",
              "María     5400.000000   0.380000  0.022000"
            ]
          },
          "execution_count": 139,
          "metadata": {},
          "output_type": "execute_result"
        }
      ],
      "source": [
        "df.groupby(\"Vendedor\").mean() ## Calculo de la media"
      ]
    },
    {
      "cell_type": "markdown",
      "metadata": {
        "id": "gLrSITkr0cj1"
      },
      "source": [
        "Obtención de medidas por agrupación de varias variables."
      ]
    },
    {
      "cell_type": "code",
      "execution_count": null,
      "metadata": {
        "id": "5K8Jfec_0cj1",
        "outputId": "40e8f211-8424-4159-da35-8ded117d8065"
      },
      "outputs": [
        {
          "data": {
            "text/html": [
              "<div>\n",
              "<style scoped>\n",
              "    .dataframe tbody tr th:only-of-type {\n",
              "        vertical-align: middle;\n",
              "    }\n",
              "\n",
              "    .dataframe tbody tr th {\n",
              "        vertical-align: top;\n",
              "    }\n",
              "\n",
              "    .dataframe thead th {\n",
              "        text-align: right;\n",
              "    }\n",
              "</style>\n",
              "<table border=\"1\" class=\"dataframe\">\n",
              "  <thead>\n",
              "    <tr style=\"text-align: right;\">\n",
              "      <th></th>\n",
              "      <th></th>\n",
              "      <th>Venta</th>\n",
              "      <th>Descuento</th>\n",
              "      <th>Comision</th>\n",
              "    </tr>\n",
              "    <tr>\n",
              "      <th>Vendedor</th>\n",
              "      <th>Horario</th>\n",
              "      <th></th>\n",
              "      <th></th>\n",
              "      <th></th>\n",
              "    </tr>\n",
              "  </thead>\n",
              "  <tbody>\n",
              "    <tr>\n",
              "      <th>Jose</th>\n",
              "      <th>Nocturno</th>\n",
              "      <td>2121.320344</td>\n",
              "      <td>0.282843</td>\n",
              "      <td>0.021213</td>\n",
              "    </tr>\n",
              "    <tr>\n",
              "      <th rowspan=\"2\" valign=\"top\">Juana</th>\n",
              "      <th>Diurno</th>\n",
              "      <td>NaN</td>\n",
              "      <td>NaN</td>\n",
              "      <td>NaN</td>\n",
              "    </tr>\n",
              "    <tr>\n",
              "      <th>Nocturno</th>\n",
              "      <td>2121.320344</td>\n",
              "      <td>0.070711</td>\n",
              "      <td>0.000000</td>\n",
              "    </tr>\n",
              "    <tr>\n",
              "      <th rowspan=\"2\" valign=\"top\">María</th>\n",
              "      <th>Diurno</th>\n",
              "      <td>4949.747468</td>\n",
              "      <td>0.070711</td>\n",
              "      <td>0.014142</td>\n",
              "    </tr>\n",
              "    <tr>\n",
              "      <th>Nocturno</th>\n",
              "      <td>1527.525232</td>\n",
              "      <td>0.351188</td>\n",
              "      <td>0.000000</td>\n",
              "    </tr>\n",
              "  </tbody>\n",
              "</table>\n",
              "</div>"
            ],
            "text/plain": [
              "                         Venta  Descuento  Comision\n",
              "Vendedor Horario                                   \n",
              "Jose     Nocturno  2121.320344   0.282843  0.021213\n",
              "Juana    Diurno            NaN        NaN       NaN\n",
              "         Nocturno  2121.320344   0.070711  0.000000\n",
              "María    Diurno    4949.747468   0.070711  0.014142\n",
              "         Nocturno  1527.525232   0.351188  0.000000"
            ]
          },
          "execution_count": 140,
          "metadata": {},
          "output_type": "execute_result"
        }
      ],
      "source": [
        "df.groupby([\"Vendedor\",\"Horario\"]).std() ##Calculo de la desviación estándar"
      ]
    },
    {
      "cell_type": "markdown",
      "metadata": {
        "id": "mD9WHQx80cj2"
      },
      "source": [
        "Cálculo de dos medidas estadísticas"
      ]
    },
    {
      "cell_type": "code",
      "execution_count": null,
      "metadata": {
        "id": "8FMeei7t0cj2",
        "outputId": "d4cdd064-0bce-4ab1-8c2b-92ae941e2bb8"
      },
      "outputs": [
        {
          "data": {
            "text/html": [
              "<div>\n",
              "<style scoped>\n",
              "    .dataframe tbody tr th:only-of-type {\n",
              "        vertical-align: middle;\n",
              "    }\n",
              "\n",
              "    .dataframe tbody tr th {\n",
              "        vertical-align: top;\n",
              "    }\n",
              "\n",
              "    .dataframe thead tr th {\n",
              "        text-align: left;\n",
              "    }\n",
              "\n",
              "    .dataframe thead tr:last-of-type th {\n",
              "        text-align: right;\n",
              "    }\n",
              "</style>\n",
              "<table border=\"1\" class=\"dataframe\">\n",
              "  <thead>\n",
              "    <tr>\n",
              "      <th></th>\n",
              "      <th></th>\n",
              "      <th colspan=\"2\" halign=\"left\">Venta</th>\n",
              "      <th colspan=\"2\" halign=\"left\">Descuento</th>\n",
              "      <th colspan=\"2\" halign=\"left\">Comision</th>\n",
              "    </tr>\n",
              "    <tr>\n",
              "      <th></th>\n",
              "      <th></th>\n",
              "      <th>mean</th>\n",
              "      <th>std</th>\n",
              "      <th>mean</th>\n",
              "      <th>std</th>\n",
              "      <th>mean</th>\n",
              "      <th>std</th>\n",
              "    </tr>\n",
              "    <tr>\n",
              "      <th>Vendedor</th>\n",
              "      <th>Horario</th>\n",
              "      <th></th>\n",
              "      <th></th>\n",
              "      <th></th>\n",
              "      <th></th>\n",
              "      <th></th>\n",
              "      <th></th>\n",
              "    </tr>\n",
              "  </thead>\n",
              "  <tbody>\n",
              "    <tr>\n",
              "      <th>Jose</th>\n",
              "      <th>Nocturno</th>\n",
              "      <td>3500.000000</td>\n",
              "      <td>2121.320344</td>\n",
              "      <td>0.400000</td>\n",
              "      <td>0.282843</td>\n",
              "      <td>0.025</td>\n",
              "      <td>0.021213</td>\n",
              "    </tr>\n",
              "    <tr>\n",
              "      <th rowspan=\"2\" valign=\"top\">Juana</th>\n",
              "      <th>Diurno</th>\n",
              "      <td>6000.000000</td>\n",
              "      <td>NaN</td>\n",
              "      <td>0.100000</td>\n",
              "      <td>NaN</td>\n",
              "      <td>0.010</td>\n",
              "      <td>NaN</td>\n",
              "    </tr>\n",
              "    <tr>\n",
              "      <th>Nocturno</th>\n",
              "      <td>5500.000000</td>\n",
              "      <td>2121.320344</td>\n",
              "      <td>0.150000</td>\n",
              "      <td>0.070711</td>\n",
              "      <td>0.020</td>\n",
              "      <td>0.000000</td>\n",
              "    </tr>\n",
              "    <tr>\n",
              "      <th rowspan=\"2\" valign=\"top\">María</th>\n",
              "      <th>Diurno</th>\n",
              "      <td>6500.000000</td>\n",
              "      <td>4949.747468</td>\n",
              "      <td>0.250000</td>\n",
              "      <td>0.070711</td>\n",
              "      <td>0.040</td>\n",
              "      <td>0.014142</td>\n",
              "    </tr>\n",
              "    <tr>\n",
              "      <th>Nocturno</th>\n",
              "      <td>4666.666667</td>\n",
              "      <td>1527.525232</td>\n",
              "      <td>0.466667</td>\n",
              "      <td>0.351188</td>\n",
              "      <td>0.010</td>\n",
              "      <td>0.000000</td>\n",
              "    </tr>\n",
              "  </tbody>\n",
              "</table>\n",
              "</div>"
            ],
            "text/plain": [
              "                         Venta              Descuento           Comision  \\\n",
              "                          mean          std      mean       std     mean   \n",
              "Vendedor Horario                                                           \n",
              "Jose     Nocturno  3500.000000  2121.320344  0.400000  0.282843    0.025   \n",
              "Juana    Diurno    6000.000000          NaN  0.100000       NaN    0.010   \n",
              "         Nocturno  5500.000000  2121.320344  0.150000  0.070711    0.020   \n",
              "María    Diurno    6500.000000  4949.747468  0.250000  0.070711    0.040   \n",
              "         Nocturno  4666.666667  1527.525232  0.466667  0.351188    0.010   \n",
              "\n",
              "                             \n",
              "                        std  \n",
              "Vendedor Horario             \n",
              "Jose     Nocturno  0.021213  \n",
              "Juana    Diurno         NaN  \n",
              "         Nocturno  0.000000  \n",
              "María    Diurno    0.014142  \n",
              "         Nocturno  0.000000  "
            ]
          },
          "execution_count": 141,
          "metadata": {},
          "output_type": "execute_result"
        }
      ],
      "source": [
        "df.groupby([\"Vendedor\",'Horario']).agg(['mean', 'std'])\n"
      ]
    },
    {
      "cell_type": "code",
      "execution_count": null,
      "metadata": {
        "id": "eQEgJfwy0cj2"
      },
      "outputs": [],
      "source": [
        "Correlación"
      ]
    },
    {
      "cell_type": "code",
      "execution_count": null,
      "metadata": {
        "id": "ThoNYOJw0cj2",
        "outputId": "d459e552-a930-41d7-8140-340affd05aa4"
      },
      "outputs": [
        {
          "data": {
            "text/html": [
              "<div>\n",
              "<style scoped>\n",
              "    .dataframe tbody tr th:only-of-type {\n",
              "        vertical-align: middle;\n",
              "    }\n",
              "\n",
              "    .dataframe tbody tr th {\n",
              "        vertical-align: top;\n",
              "    }\n",
              "\n",
              "    .dataframe thead th {\n",
              "        text-align: right;\n",
              "    }\n",
              "</style>\n",
              "<table border=\"1\" class=\"dataframe\">\n",
              "  <thead>\n",
              "    <tr style=\"text-align: right;\">\n",
              "      <th></th>\n",
              "      <th>Venta</th>\n",
              "      <th>Descuento</th>\n",
              "      <th>Comision</th>\n",
              "    </tr>\n",
              "  </thead>\n",
              "  <tbody>\n",
              "    <tr>\n",
              "      <th>Venta</th>\n",
              "      <td>1.000000</td>\n",
              "      <td>0.015492</td>\n",
              "      <td>-0.324910</td>\n",
              "    </tr>\n",
              "    <tr>\n",
              "      <th>Descuento</th>\n",
              "      <td>0.015492</td>\n",
              "      <td>1.000000</td>\n",
              "      <td>-0.029693</td>\n",
              "    </tr>\n",
              "    <tr>\n",
              "      <th>Comision</th>\n",
              "      <td>-0.324910</td>\n",
              "      <td>-0.029693</td>\n",
              "      <td>1.000000</td>\n",
              "    </tr>\n",
              "  </tbody>\n",
              "</table>\n",
              "</div>"
            ],
            "text/plain": [
              "              Venta  Descuento  Comision\n",
              "Venta      1.000000   0.015492 -0.324910\n",
              "Descuento  0.015492   1.000000 -0.029693\n",
              "Comision  -0.324910  -0.029693  1.000000"
            ]
          },
          "execution_count": 178,
          "metadata": {},
          "output_type": "execute_result"
        }
      ],
      "source": [
        "df.corr()"
      ]
    },
    {
      "cell_type": "markdown",
      "metadata": {
        "id": "5vTg916_0cj2"
      },
      "source": [
        "### Variables cualitativas\n",
        "\n",
        "El commando describe presenta la cantidad de datos de la variable, la cantidad de valores distintos, la moda y la frecuencia."
      ]
    },
    {
      "cell_type": "code",
      "execution_count": null,
      "metadata": {
        "id": "XM9eYubk0cj3",
        "outputId": "2600e98c-32b2-4a13-ae28-37f94f3cc6a9"
      },
      "outputs": [
        {
          "data": {
            "text/plain": [
              "count        12\n",
              "unique        3\n",
              "top       María\n",
              "freq          5\n",
              "Name: Vendedor, dtype: object"
            ]
          },
          "execution_count": 97,
          "metadata": {},
          "output_type": "execute_result"
        }
      ],
      "source": [
        "df[\"Vendedor\"].describe()"
      ]
    },
    {
      "cell_type": "markdown",
      "metadata": {
        "id": "qzCtkA5w0cj3"
      },
      "source": [
        "### Frecuencias absolutas\n",
        "\n",
        "Cantidad de individuos que poseen la característica."
      ]
    },
    {
      "cell_type": "code",
      "execution_count": null,
      "metadata": {
        "id": "GTdFb6R60cj3",
        "outputId": "d8ef90d8-61ff-491d-9c3c-74e1ce77a66a"
      },
      "outputs": [
        {
          "data": {
            "text/plain": [
              "María    5\n",
              "Juana    3\n",
              "Jose     2\n",
              "Name: Vendedor, dtype: int64"
            ]
          },
          "execution_count": 198,
          "metadata": {},
          "output_type": "execute_result"
        }
      ],
      "source": [
        "pd.value_counts(df[\"Vendedor\"])"
      ]
    },
    {
      "cell_type": "markdown",
      "metadata": {
        "id": "HqW01XAY0cj3"
      },
      "source": [
        "### Frecuencias relativas\n",
        "\n",
        "Porcentaje de individuos que poseen la característica"
      ]
    },
    {
      "cell_type": "code",
      "execution_count": null,
      "metadata": {
        "id": "YvE6nVXD0cj3",
        "outputId": "1150991a-0fc2-4d84-ec8b-bbe452b23721"
      },
      "outputs": [
        {
          "data": {
            "text/plain": [
              "María    0.5\n",
              "Juana    0.3\n",
              "Jose     0.2\n",
              "Name: Vendedor, dtype: float64"
            ]
          },
          "execution_count": 199,
          "metadata": {},
          "output_type": "execute_result"
        }
      ],
      "source": [
        "df[\"Vendedor\"].value_counts() / len(df[\"Vendedor\"])"
      ]
    },
    {
      "cell_type": "markdown",
      "metadata": {
        "id": "ljhBx5hc0cj3"
      },
      "source": [
        "### Tablas de Contingencia\n",
        "\n",
        "#### Frecuencias absolutas\n",
        "\n",
        "Cantidad de individuos que toman valores en dos variables \n",
        "distintas."
      ]
    },
    {
      "cell_type": "code",
      "execution_count": null,
      "metadata": {
        "id": "DfX_c0q40cj4",
        "outputId": "31441ee5-59c7-46e8-fc73-078c9dcf6ab3"
      },
      "outputs": [
        {
          "data": {
            "text/html": [
              "<div>\n",
              "<style scoped>\n",
              "    .dataframe tbody tr th:only-of-type {\n",
              "        vertical-align: middle;\n",
              "    }\n",
              "\n",
              "    .dataframe tbody tr th {\n",
              "        vertical-align: top;\n",
              "    }\n",
              "\n",
              "    .dataframe thead th {\n",
              "        text-align: right;\n",
              "    }\n",
              "</style>\n",
              "<table border=\"1\" class=\"dataframe\">\n",
              "  <thead>\n",
              "    <tr style=\"text-align: right;\">\n",
              "      <th>Horario</th>\n",
              "      <th>Diurno</th>\n",
              "      <th>Nocturno</th>\n",
              "      <th>All</th>\n",
              "    </tr>\n",
              "    <tr>\n",
              "      <th>Vendedor</th>\n",
              "      <th></th>\n",
              "      <th></th>\n",
              "      <th></th>\n",
              "    </tr>\n",
              "  </thead>\n",
              "  <tbody>\n",
              "    <tr>\n",
              "      <th>Jose</th>\n",
              "      <td>1</td>\n",
              "      <td>1</td>\n",
              "      <td>2</td>\n",
              "    </tr>\n",
              "    <tr>\n",
              "      <th>Juana</th>\n",
              "      <td>1</td>\n",
              "      <td>2</td>\n",
              "      <td>3</td>\n",
              "    </tr>\n",
              "    <tr>\n",
              "      <th>Maria</th>\n",
              "      <td>2</td>\n",
              "      <td>2</td>\n",
              "      <td>4</td>\n",
              "    </tr>\n",
              "    <tr>\n",
              "      <th>María</th>\n",
              "      <td>0</td>\n",
              "      <td>1</td>\n",
              "      <td>1</td>\n",
              "    </tr>\n",
              "    <tr>\n",
              "      <th>All</th>\n",
              "      <td>4</td>\n",
              "      <td>6</td>\n",
              "      <td>10</td>\n",
              "    </tr>\n",
              "  </tbody>\n",
              "</table>\n",
              "</div>"
            ],
            "text/plain": [
              "Horario   Diurno  Nocturno  All\n",
              "Vendedor                       \n",
              "Jose           1         1    2\n",
              "Juana          1         2    3\n",
              "Maria          2         2    4\n",
              "María          0         1    1\n",
              "All            4         6   10"
            ]
          },
          "execution_count": 14,
          "metadata": {},
          "output_type": "execute_result"
        }
      ],
      "source": [
        "pd.crosstab(index=df[\"Vendedor\"],\n",
        "            columns=df[\"Horario\"], margins=True)"
      ]
    },
    {
      "cell_type": "markdown",
      "metadata": {
        "id": "nC10PRLW0cj4"
      },
      "source": [
        "#### Frecuencias relativas\n",
        "\n",
        "Porcentaje de individuos que toman valores en dos variables distintas."
      ]
    },
    {
      "cell_type": "code",
      "execution_count": null,
      "metadata": {
        "id": "wzz43nVW0cj4",
        "outputId": "833306a2-ddfa-4e46-93d6-6bbc579b9dee"
      },
      "outputs": [
        {
          "data": {
            "text/html": [
              "<div>\n",
              "<style scoped>\n",
              "    .dataframe tbody tr th:only-of-type {\n",
              "        vertical-align: middle;\n",
              "    }\n",
              "\n",
              "    .dataframe tbody tr th {\n",
              "        vertical-align: top;\n",
              "    }\n",
              "\n",
              "    .dataframe thead th {\n",
              "        text-align: right;\n",
              "    }\n",
              "</style>\n",
              "<table border=\"1\" class=\"dataframe\">\n",
              "  <thead>\n",
              "    <tr style=\"text-align: right;\">\n",
              "      <th>Horario</th>\n",
              "      <th>Diurno</th>\n",
              "      <th>Nocturno</th>\n",
              "      <th>All</th>\n",
              "    </tr>\n",
              "    <tr>\n",
              "      <th>Vendedor</th>\n",
              "      <th></th>\n",
              "      <th></th>\n",
              "      <th></th>\n",
              "    </tr>\n",
              "  </thead>\n",
              "  <tbody>\n",
              "    <tr>\n",
              "      <th>Jose</th>\n",
              "      <td>0.1</td>\n",
              "      <td>0.1</td>\n",
              "      <td>0.2</td>\n",
              "    </tr>\n",
              "    <tr>\n",
              "      <th>Juana</th>\n",
              "      <td>0.1</td>\n",
              "      <td>0.2</td>\n",
              "      <td>0.3</td>\n",
              "    </tr>\n",
              "    <tr>\n",
              "      <th>María</th>\n",
              "      <td>0.2</td>\n",
              "      <td>0.3</td>\n",
              "      <td>0.5</td>\n",
              "    </tr>\n",
              "    <tr>\n",
              "      <th>All</th>\n",
              "      <td>0.4</td>\n",
              "      <td>0.6</td>\n",
              "      <td>1.0</td>\n",
              "    </tr>\n",
              "  </tbody>\n",
              "</table>\n",
              "</div>"
            ],
            "text/plain": [
              "Horario   Diurno  Nocturno  All\n",
              "Vendedor                       \n",
              "Jose         0.1       0.1  0.2\n",
              "Juana        0.1       0.2  0.3\n",
              "María        0.2       0.3  0.5\n",
              "All          0.4       0.6  1.0"
            ]
          },
          "execution_count": 205,
          "metadata": {},
          "output_type": "execute_result"
        }
      ],
      "source": [
        "pd.crosstab(index=df[\"Vendedor\"], columns=df[\"Horario\"],\n",
        "            margins=True).apply(lambda r: r/len(df),\n",
        "                                axis=1)"
      ]
    },
    {
      "cell_type": "markdown",
      "metadata": {
        "id": "Nb0zOnLH0cj4"
      },
      "source": [
        "#### Frecuencias relativas por vendedor\n",
        "\n",
        "Porcentaje de veces que un vendedor estuvo en determinado horario."
      ]
    },
    {
      "cell_type": "code",
      "execution_count": null,
      "metadata": {
        "id": "ho3eoacg0cj4",
        "outputId": "4a2e3664-cc54-45c9-a2b2-0277ccc8481a"
      },
      "outputs": [
        {
          "data": {
            "text/html": [
              "<div>\n",
              "<style scoped>\n",
              "    .dataframe tbody tr th:only-of-type {\n",
              "        vertical-align: middle;\n",
              "    }\n",
              "\n",
              "    .dataframe tbody tr th {\n",
              "        vertical-align: top;\n",
              "    }\n",
              "\n",
              "    .dataframe thead th {\n",
              "        text-align: right;\n",
              "    }\n",
              "</style>\n",
              "<table border=\"1\" class=\"dataframe\">\n",
              "  <thead>\n",
              "    <tr style=\"text-align: right;\">\n",
              "      <th>Horario</th>\n",
              "      <th>Diurno</th>\n",
              "      <th>Nocturno</th>\n",
              "    </tr>\n",
              "    <tr>\n",
              "      <th>Vendedor</th>\n",
              "      <th></th>\n",
              "      <th></th>\n",
              "    </tr>\n",
              "  </thead>\n",
              "  <tbody>\n",
              "    <tr>\n",
              "      <th>Jose</th>\n",
              "      <td>0.500000</td>\n",
              "      <td>0.500000</td>\n",
              "    </tr>\n",
              "    <tr>\n",
              "      <th>Juana</th>\n",
              "      <td>0.333333</td>\n",
              "      <td>0.666667</td>\n",
              "    </tr>\n",
              "    <tr>\n",
              "      <th>María</th>\n",
              "      <td>0.400000</td>\n",
              "      <td>0.600000</td>\n",
              "    </tr>\n",
              "  </tbody>\n",
              "</table>\n",
              "</div>"
            ],
            "text/plain": [
              "Horario     Diurno  Nocturno\n",
              "Vendedor                    \n",
              "Jose      0.500000  0.500000\n",
              "Juana     0.333333  0.666667\n",
              "María     0.400000  0.600000"
            ]
          },
          "execution_count": 208,
          "metadata": {},
          "output_type": "execute_result"
        }
      ],
      "source": [
        "pd.crosstab(index=df[\"Vendedor\"], columns=df[\"Horario\"]\n",
        "           ).apply(lambda r: r/r.sum(),\n",
        "                                axis=1)"
      ]
    },
    {
      "cell_type": "markdown",
      "metadata": {
        "id": "rRv41j1k0cj5"
      },
      "source": [
        "#### Frecuencias relativas por horario\n",
        "\n",
        "Porcentaje de veces que en un horario estuvo un vendedor."
      ]
    },
    {
      "cell_type": "code",
      "execution_count": null,
      "metadata": {
        "id": "79RYQsq90cj5",
        "outputId": "f4db3b64-89bd-4ad2-bc08-1e47c5e2ec81"
      },
      "outputs": [
        {
          "data": {
            "text/html": [
              "<div>\n",
              "<style scoped>\n",
              "    .dataframe tbody tr th:only-of-type {\n",
              "        vertical-align: middle;\n",
              "    }\n",
              "\n",
              "    .dataframe tbody tr th {\n",
              "        vertical-align: top;\n",
              "    }\n",
              "\n",
              "    .dataframe thead th {\n",
              "        text-align: right;\n",
              "    }\n",
              "</style>\n",
              "<table border=\"1\" class=\"dataframe\">\n",
              "  <thead>\n",
              "    <tr style=\"text-align: right;\">\n",
              "      <th>Horario</th>\n",
              "      <th>Diurno</th>\n",
              "      <th>Nocturno</th>\n",
              "    </tr>\n",
              "    <tr>\n",
              "      <th>Vendedor</th>\n",
              "      <th></th>\n",
              "      <th></th>\n",
              "    </tr>\n",
              "  </thead>\n",
              "  <tbody>\n",
              "    <tr>\n",
              "      <th>Jose</th>\n",
              "      <td>0.25</td>\n",
              "      <td>0.285714</td>\n",
              "    </tr>\n",
              "    <tr>\n",
              "      <th>Juana</th>\n",
              "      <td>0.25</td>\n",
              "      <td>0.285714</td>\n",
              "    </tr>\n",
              "    <tr>\n",
              "      <th>María</th>\n",
              "      <td>0.50</td>\n",
              "      <td>0.428571</td>\n",
              "    </tr>\n",
              "  </tbody>\n",
              "</table>\n",
              "</div>"
            ],
            "text/plain": [
              "Horario   Diurno  Nocturno\n",
              "Vendedor                  \n",
              "Jose        0.25  0.285714\n",
              "Juana       0.25  0.285714\n",
              "María       0.50  0.428571"
            ]
          },
          "execution_count": 222,
          "metadata": {},
          "output_type": "execute_result"
        }
      ],
      "source": [
        "pd.crosstab(index=df[\"Vendedor\"], columns=df[\"Horario\"]\n",
        "           ).apply(lambda r: r/r.sum(),\n",
        "                                axis=0)"
      ]
    },
    {
      "cell_type": "markdown",
      "metadata": {
        "id": "rfVmLcH70cj5"
      },
      "source": [
        "## Series de tiempo\n",
        "\n",
        "Una serie de tiempo es un conjunto de variables aleatorias indexadas por el tiempo.\n",
        "\n",
        "## Datos a analizar\n",
        "\n",
        "Se importan los datos del archivo de excel de la hoja llamada Consolidado. Este archivo contiene información de la tasa representativa del mércado (TRM), del precio del barril de petróleo (WTI) y de la inflación."
      ]
    },
    {
      "cell_type": "code",
      "execution_count": null,
      "metadata": {
        "id": "ypHfd2Xu0cj5",
        "outputId": "39ffcf02-e270-4c35-8e47-ed30b3fe4a1e"
      },
      "outputs": [
        {
          "data": {
            "text/plain": [
              "['Fecha', 'Promedio de WTI', 'Promedio de Dólar', 'Inflación']"
            ]
          },
          "execution_count": 320,
          "metadata": {},
          "output_type": "execute_result"
        }
      ],
      "source": [
        "Datos=pd.read_excel(\"DolarPetroleo.xlsx\", sheetname=\"Consolidado\") ## Importar datos\n",
        "list(Datos) ## Conocer los nombres de las variables"
      ]
    },
    {
      "cell_type": "code",
      "execution_count": null,
      "metadata": {
        "id": "DT0KaSrT0cj5",
        "outputId": "f4c82452-cc25-4f3d-93c5-3997bcba6e8d"
      },
      "outputs": [
        {
          "data": {
            "text/plain": [
              "pandas.core.frame.DataFrame"
            ]
          },
          "execution_count": 321,
          "metadata": {},
          "output_type": "execute_result"
        }
      ],
      "source": [
        "type(Datos)  ### Analizar el tipo de objeto que es Datos"
      ]
    },
    {
      "cell_type": "markdown",
      "metadata": {
        "id": "CpnUjf0X0cj5"
      },
      "source": [
        "Se importa el paquete que maneja fechas"
      ]
    },
    {
      "cell_type": "code",
      "execution_count": null,
      "metadata": {
        "id": "E4wObtw50cj6"
      },
      "outputs": [],
      "source": [
        "from datetime import datetime  ### Paquete que maneja fechas"
      ]
    },
    {
      "cell_type": "markdown",
      "metadata": {
        "id": "ot5i4YcT0cj6"
      },
      "source": [
        "Se definen las fechas con el $comando pd.date_range$ con el que se define la fecha de inicio, la fecha final y la periodicidad. En este caso es M de meses."
      ]
    },
    {
      "cell_type": "code",
      "execution_count": null,
      "metadata": {
        "id": "3k9qJX2T0cj6",
        "outputId": "958fd149-8b6a-47bc-8435-a3b405028349"
      },
      "outputs": [
        {
          "data": {
            "text/plain": [
              "DatetimeIndex(['2015-01-31', '2015-02-28', '2015-03-31', '2015-04-30',\n",
              "               '2015-05-31', '2015-06-30', '2015-07-31', '2015-08-31',\n",
              "               '2015-09-30', '2015-10-31', '2015-11-30', '2015-12-31',\n",
              "               '2016-01-31', '2016-02-29', '2016-03-31', '2016-04-30',\n",
              "               '2016-05-31', '2016-06-30', '2016-07-31', '2016-08-31',\n",
              "               '2016-09-30', '2016-10-31'],\n",
              "              dtype='datetime64[ns]', freq='M')"
            ]
          },
          "execution_count": 323,
          "metadata": {},
          "output_type": "execute_result"
        }
      ],
      "source": [
        "date_rng = pd.date_range(start='2015/01/01', end='2016/11/01', freq='M')\n",
        "date_rng"
      ]
    },
    {
      "cell_type": "markdown",
      "metadata": {
        "id": "1pZaS-qW0cj6"
      },
      "source": [
        "Convertir los datos a una serie de tiempo"
      ]
    },
    {
      "cell_type": "code",
      "execution_count": null,
      "metadata": {
        "id": "J18M9l1Z0cj6",
        "outputId": "5e6d836f-7779-4c13-95f5-1094f3d2bdd9"
      },
      "outputs": [
        {
          "data": {
            "text/html": [
              "<div>\n",
              "<style scoped>\n",
              "    .dataframe tbody tr th:only-of-type {\n",
              "        vertical-align: middle;\n",
              "    }\n",
              "\n",
              "    .dataframe tbody tr th {\n",
              "        vertical-align: top;\n",
              "    }\n",
              "\n",
              "    .dataframe thead th {\n",
              "        text-align: right;\n",
              "    }\n",
              "</style>\n",
              "<table border=\"1\" class=\"dataframe\">\n",
              "  <thead>\n",
              "    <tr style=\"text-align: right;\">\n",
              "      <th></th>\n",
              "      <th>Fecha</th>\n",
              "      <th>Promedio de WTI</th>\n",
              "      <th>Promedio de Dólar</th>\n",
              "      <th>Inflación</th>\n",
              "      <th>ts</th>\n",
              "    </tr>\n",
              "  </thead>\n",
              "  <tbody>\n",
              "    <tr>\n",
              "      <th>0</th>\n",
              "      <td>2015-01-01</td>\n",
              "      <td>47.759500</td>\n",
              "      <td>2398.827500</td>\n",
              "      <td>0.003600</td>\n",
              "      <td>2015-01-31</td>\n",
              "    </tr>\n",
              "    <tr>\n",
              "      <th>1</th>\n",
              "      <td>2015-02-01</td>\n",
              "      <td>58.095500</td>\n",
              "      <td>2420.384000</td>\n",
              "      <td>0.010907</td>\n",
              "      <td>2015-02-28</td>\n",
              "    </tr>\n",
              "    <tr>\n",
              "      <th>2</th>\n",
              "      <td>2015-03-01</td>\n",
              "      <td>55.885455</td>\n",
              "      <td>2586.630000</td>\n",
              "      <td>0.004159</td>\n",
              "      <td>2015-03-31</td>\n",
              "    </tr>\n",
              "    <tr>\n",
              "      <th>3</th>\n",
              "      <td>2015-04-01</td>\n",
              "      <td>59.524286</td>\n",
              "      <td>2499.223333</td>\n",
              "      <td>0.003626</td>\n",
              "      <td>2015-04-30</td>\n",
              "    </tr>\n",
              "    <tr>\n",
              "      <th>4</th>\n",
              "      <td>2015-05-01</td>\n",
              "      <td>64.075000</td>\n",
              "      <td>2432.650500</td>\n",
              "      <td>0.004299</td>\n",
              "      <td>2015-05-31</td>\n",
              "    </tr>\n",
              "    <tr>\n",
              "      <th>5</th>\n",
              "      <td>2015-06-01</td>\n",
              "      <td>61.477727</td>\n",
              "      <td>2558.571364</td>\n",
              "      <td>0.004087</td>\n",
              "      <td>2015-06-30</td>\n",
              "    </tr>\n",
              "    <tr>\n",
              "      <th>6</th>\n",
              "      <td>2015-07-01</td>\n",
              "      <td>56.561304</td>\n",
              "      <td>2732.771739</td>\n",
              "      <td>0.001815</td>\n",
              "      <td>2015-07-31</td>\n",
              "    </tr>\n",
              "    <tr>\n",
              "      <th>7</th>\n",
              "      <td>2015-08-01</td>\n",
              "      <td>46.515000</td>\n",
              "      <td>3013.991500</td>\n",
              "      <td>0.003432</td>\n",
              "      <td>2015-08-31</td>\n",
              "    </tr>\n",
              "    <tr>\n",
              "      <th>8</th>\n",
              "      <td>2015-09-01</td>\n",
              "      <td>47.623182</td>\n",
              "      <td>3073.115455</td>\n",
              "      <td>0.005350</td>\n",
              "      <td>2015-09-30</td>\n",
              "    </tr>\n",
              "    <tr>\n",
              "      <th>9</th>\n",
              "      <td>2015-10-01</td>\n",
              "      <td>48.430000</td>\n",
              "      <td>2934.117727</td>\n",
              "      <td>0.003918</td>\n",
              "      <td>2015-10-31</td>\n",
              "    </tr>\n",
              "    <tr>\n",
              "      <th>10</th>\n",
              "      <td>2015-11-01</td>\n",
              "      <td>44.267619</td>\n",
              "      <td>2995.609524</td>\n",
              "      <td>0.003893</td>\n",
              "      <td>2015-11-30</td>\n",
              "    </tr>\n",
              "    <tr>\n",
              "      <th>11</th>\n",
              "      <td>2015-12-01</td>\n",
              "      <td>38.005455</td>\n",
              "      <td>3246.438182</td>\n",
              "      <td>0.003872</td>\n",
              "      <td>2015-12-31</td>\n",
              "    </tr>\n",
              "    <tr>\n",
              "      <th>12</th>\n",
              "      <td>2016-01-01</td>\n",
              "      <td>30.875263</td>\n",
              "      <td>3282.683158</td>\n",
              "      <td>0.006138</td>\n",
              "      <td>2016-01-31</td>\n",
              "    </tr>\n",
              "    <tr>\n",
              "      <th>13</th>\n",
              "      <td>2016-02-01</td>\n",
              "      <td>32.181500</td>\n",
              "      <td>3354.887500</td>\n",
              "      <td>0.011443</td>\n",
              "      <td>2016-02-29</td>\n",
              "    </tr>\n",
              "    <tr>\n",
              "      <th>14</th>\n",
              "      <td>2016-03-01</td>\n",
              "      <td>38.210455</td>\n",
              "      <td>3137.715455</td>\n",
              "      <td>0.005692</td>\n",
              "      <td>2016-03-31</td>\n",
              "    </tr>\n",
              "    <tr>\n",
              "      <th>15</th>\n",
              "      <td>2016-04-01</td>\n",
              "      <td>41.583333</td>\n",
              "      <td>2998.712857</td>\n",
              "      <td>0.005302</td>\n",
              "      <td>2016-04-30</td>\n",
              "    </tr>\n",
              "    <tr>\n",
              "      <th>16</th>\n",
              "      <td>2016-05-01</td>\n",
              "      <td>46.742381</td>\n",
              "      <td>2987.488095</td>\n",
              "      <td>0.004292</td>\n",
              "      <td>2016-05-31</td>\n",
              "    </tr>\n",
              "    <tr>\n",
              "      <th>17</th>\n",
              "      <td>2016-06-01</td>\n",
              "      <td>48.247273</td>\n",
              "      <td>2992.864545</td>\n",
              "      <td>0.005202</td>\n",
              "      <td>2016-06-30</td>\n",
              "    </tr>\n",
              "    <tr>\n",
              "      <th>18</th>\n",
              "      <td>2016-07-01</td>\n",
              "      <td>44.951905</td>\n",
              "      <td>2960.058571</td>\n",
              "      <td>0.001978</td>\n",
              "      <td>2016-07-31</td>\n",
              "    </tr>\n",
              "    <tr>\n",
              "      <th>19</th>\n",
              "      <td>2016-08-01</td>\n",
              "      <td>45.843043</td>\n",
              "      <td>2961.422174</td>\n",
              "      <td>0.002300</td>\n",
              "      <td>2016-08-31</td>\n",
              "    </tr>\n",
              "    <tr>\n",
              "      <th>20</th>\n",
              "      <td>2016-09-01</td>\n",
              "      <td>46.567727</td>\n",
              "      <td>2921.145455</td>\n",
              "      <td>0.002932</td>\n",
              "      <td>2016-09-30</td>\n",
              "    </tr>\n",
              "    <tr>\n",
              "      <th>21</th>\n",
              "      <td>2016-10-01</td>\n",
              "      <td>49.522381</td>\n",
              "      <td>2931.800476</td>\n",
              "      <td>0.000877</td>\n",
              "      <td>2016-10-31</td>\n",
              "    </tr>\n",
              "  </tbody>\n",
              "</table>\n",
              "</div>"
            ],
            "text/plain": [
              "        Fecha  Promedio de WTI  Promedio de Dólar  Inflación         ts\n",
              "0  2015-01-01        47.759500        2398.827500   0.003600 2015-01-31\n",
              "1  2015-02-01        58.095500        2420.384000   0.010907 2015-02-28\n",
              "2  2015-03-01        55.885455        2586.630000   0.004159 2015-03-31\n",
              "3  2015-04-01        59.524286        2499.223333   0.003626 2015-04-30\n",
              "4  2015-05-01        64.075000        2432.650500   0.004299 2015-05-31\n",
              "5  2015-06-01        61.477727        2558.571364   0.004087 2015-06-30\n",
              "6  2015-07-01        56.561304        2732.771739   0.001815 2015-07-31\n",
              "7  2015-08-01        46.515000        3013.991500   0.003432 2015-08-31\n",
              "8  2015-09-01        47.623182        3073.115455   0.005350 2015-09-30\n",
              "9  2015-10-01        48.430000        2934.117727   0.003918 2015-10-31\n",
              "10 2015-11-01        44.267619        2995.609524   0.003893 2015-11-30\n",
              "11 2015-12-01        38.005455        3246.438182   0.003872 2015-12-31\n",
              "12 2016-01-01        30.875263        3282.683158   0.006138 2016-01-31\n",
              "13 2016-02-01        32.181500        3354.887500   0.011443 2016-02-29\n",
              "14 2016-03-01        38.210455        3137.715455   0.005692 2016-03-31\n",
              "15 2016-04-01        41.583333        2998.712857   0.005302 2016-04-30\n",
              "16 2016-05-01        46.742381        2987.488095   0.004292 2016-05-31\n",
              "17 2016-06-01        48.247273        2992.864545   0.005202 2016-06-30\n",
              "18 2016-07-01        44.951905        2960.058571   0.001978 2016-07-31\n",
              "19 2016-08-01        45.843043        2961.422174   0.002300 2016-08-31\n",
              "20 2016-09-01        46.567727        2921.145455   0.002932 2016-09-30\n",
              "21 2016-10-01        49.522381        2931.800476   0.000877 2016-10-31"
            ]
          },
          "execution_count": 324,
          "metadata": {},
          "output_type": "execute_result"
        }
      ],
      "source": [
        "ts = pd.DataFrame(date_rng, columns=['date']) ## Se define el vector de fechas\n",
        "Datos[\"ts\"]= ts                  ## Se agregan al dataframe\n",
        "Datos\n"
      ]
    },
    {
      "cell_type": "code",
      "execution_count": null,
      "metadata": {
        "id": "GRD3d3mY0cj7",
        "outputId": "08ef83ad-006c-474d-cb6c-f67f1f57fc21"
      },
      "outputs": [
        {
          "data": {
            "text/html": [
              "<div>\n",
              "<style scoped>\n",
              "    .dataframe tbody tr th:only-of-type {\n",
              "        vertical-align: middle;\n",
              "    }\n",
              "\n",
              "    .dataframe tbody tr th {\n",
              "        vertical-align: top;\n",
              "    }\n",
              "\n",
              "    .dataframe thead th {\n",
              "        text-align: right;\n",
              "    }\n",
              "</style>\n",
              "<table border=\"1\" class=\"dataframe\">\n",
              "  <thead>\n",
              "    <tr style=\"text-align: right;\">\n",
              "      <th></th>\n",
              "      <th>Fecha</th>\n",
              "      <th>Promedio de WTI</th>\n",
              "      <th>Promedio de Dólar</th>\n",
              "      <th>Inflación</th>\n",
              "    </tr>\n",
              "    <tr>\n",
              "      <th>ts</th>\n",
              "      <th></th>\n",
              "      <th></th>\n",
              "      <th></th>\n",
              "      <th></th>\n",
              "    </tr>\n",
              "  </thead>\n",
              "  <tbody>\n",
              "    <tr>\n",
              "      <th>2015-01-31</th>\n",
              "      <td>2015-01-01</td>\n",
              "      <td>47.759500</td>\n",
              "      <td>2398.827500</td>\n",
              "      <td>0.003600</td>\n",
              "    </tr>\n",
              "    <tr>\n",
              "      <th>2015-02-28</th>\n",
              "      <td>2015-02-01</td>\n",
              "      <td>58.095500</td>\n",
              "      <td>2420.384000</td>\n",
              "      <td>0.010907</td>\n",
              "    </tr>\n",
              "    <tr>\n",
              "      <th>2015-03-31</th>\n",
              "      <td>2015-03-01</td>\n",
              "      <td>55.885455</td>\n",
              "      <td>2586.630000</td>\n",
              "      <td>0.004159</td>\n",
              "    </tr>\n",
              "    <tr>\n",
              "      <th>2015-04-30</th>\n",
              "      <td>2015-04-01</td>\n",
              "      <td>59.524286</td>\n",
              "      <td>2499.223333</td>\n",
              "      <td>0.003626</td>\n",
              "    </tr>\n",
              "    <tr>\n",
              "      <th>2015-05-31</th>\n",
              "      <td>2015-05-01</td>\n",
              "      <td>64.075000</td>\n",
              "      <td>2432.650500</td>\n",
              "      <td>0.004299</td>\n",
              "    </tr>\n",
              "    <tr>\n",
              "      <th>2015-06-30</th>\n",
              "      <td>2015-06-01</td>\n",
              "      <td>61.477727</td>\n",
              "      <td>2558.571364</td>\n",
              "      <td>0.004087</td>\n",
              "    </tr>\n",
              "    <tr>\n",
              "      <th>2015-07-31</th>\n",
              "      <td>2015-07-01</td>\n",
              "      <td>56.561304</td>\n",
              "      <td>2732.771739</td>\n",
              "      <td>0.001815</td>\n",
              "    </tr>\n",
              "    <tr>\n",
              "      <th>2015-08-31</th>\n",
              "      <td>2015-08-01</td>\n",
              "      <td>46.515000</td>\n",
              "      <td>3013.991500</td>\n",
              "      <td>0.003432</td>\n",
              "    </tr>\n",
              "    <tr>\n",
              "      <th>2015-09-30</th>\n",
              "      <td>2015-09-01</td>\n",
              "      <td>47.623182</td>\n",
              "      <td>3073.115455</td>\n",
              "      <td>0.005350</td>\n",
              "    </tr>\n",
              "    <tr>\n",
              "      <th>2015-10-31</th>\n",
              "      <td>2015-10-01</td>\n",
              "      <td>48.430000</td>\n",
              "      <td>2934.117727</td>\n",
              "      <td>0.003918</td>\n",
              "    </tr>\n",
              "    <tr>\n",
              "      <th>2015-11-30</th>\n",
              "      <td>2015-11-01</td>\n",
              "      <td>44.267619</td>\n",
              "      <td>2995.609524</td>\n",
              "      <td>0.003893</td>\n",
              "    </tr>\n",
              "    <tr>\n",
              "      <th>2015-12-31</th>\n",
              "      <td>2015-12-01</td>\n",
              "      <td>38.005455</td>\n",
              "      <td>3246.438182</td>\n",
              "      <td>0.003872</td>\n",
              "    </tr>\n",
              "    <tr>\n",
              "      <th>2016-01-31</th>\n",
              "      <td>2016-01-01</td>\n",
              "      <td>30.875263</td>\n",
              "      <td>3282.683158</td>\n",
              "      <td>0.006138</td>\n",
              "    </tr>\n",
              "    <tr>\n",
              "      <th>2016-02-29</th>\n",
              "      <td>2016-02-01</td>\n",
              "      <td>32.181500</td>\n",
              "      <td>3354.887500</td>\n",
              "      <td>0.011443</td>\n",
              "    </tr>\n",
              "    <tr>\n",
              "      <th>2016-03-31</th>\n",
              "      <td>2016-03-01</td>\n",
              "      <td>38.210455</td>\n",
              "      <td>3137.715455</td>\n",
              "      <td>0.005692</td>\n",
              "    </tr>\n",
              "    <tr>\n",
              "      <th>2016-04-30</th>\n",
              "      <td>2016-04-01</td>\n",
              "      <td>41.583333</td>\n",
              "      <td>2998.712857</td>\n",
              "      <td>0.005302</td>\n",
              "    </tr>\n",
              "    <tr>\n",
              "      <th>2016-05-31</th>\n",
              "      <td>2016-05-01</td>\n",
              "      <td>46.742381</td>\n",
              "      <td>2987.488095</td>\n",
              "      <td>0.004292</td>\n",
              "    </tr>\n",
              "    <tr>\n",
              "      <th>2016-06-30</th>\n",
              "      <td>2016-06-01</td>\n",
              "      <td>48.247273</td>\n",
              "      <td>2992.864545</td>\n",
              "      <td>0.005202</td>\n",
              "    </tr>\n",
              "    <tr>\n",
              "      <th>2016-07-31</th>\n",
              "      <td>2016-07-01</td>\n",
              "      <td>44.951905</td>\n",
              "      <td>2960.058571</td>\n",
              "      <td>0.001978</td>\n",
              "    </tr>\n",
              "    <tr>\n",
              "      <th>2016-08-31</th>\n",
              "      <td>2016-08-01</td>\n",
              "      <td>45.843043</td>\n",
              "      <td>2961.422174</td>\n",
              "      <td>0.002300</td>\n",
              "    </tr>\n",
              "    <tr>\n",
              "      <th>2016-09-30</th>\n",
              "      <td>2016-09-01</td>\n",
              "      <td>46.567727</td>\n",
              "      <td>2921.145455</td>\n",
              "      <td>0.002932</td>\n",
              "    </tr>\n",
              "    <tr>\n",
              "      <th>2016-10-31</th>\n",
              "      <td>2016-10-01</td>\n",
              "      <td>49.522381</td>\n",
              "      <td>2931.800476</td>\n",
              "      <td>0.000877</td>\n",
              "    </tr>\n",
              "  </tbody>\n",
              "</table>\n",
              "</div>"
            ],
            "text/plain": [
              "                Fecha  Promedio de WTI  Promedio de Dólar  Inflación\n",
              "ts                                                                  \n",
              "2015-01-31 2015-01-01        47.759500        2398.827500   0.003600\n",
              "2015-02-28 2015-02-01        58.095500        2420.384000   0.010907\n",
              "2015-03-31 2015-03-01        55.885455        2586.630000   0.004159\n",
              "2015-04-30 2015-04-01        59.524286        2499.223333   0.003626\n",
              "2015-05-31 2015-05-01        64.075000        2432.650500   0.004299\n",
              "2015-06-30 2015-06-01        61.477727        2558.571364   0.004087\n",
              "2015-07-31 2015-07-01        56.561304        2732.771739   0.001815\n",
              "2015-08-31 2015-08-01        46.515000        3013.991500   0.003432\n",
              "2015-09-30 2015-09-01        47.623182        3073.115455   0.005350\n",
              "2015-10-31 2015-10-01        48.430000        2934.117727   0.003918\n",
              "2015-11-30 2015-11-01        44.267619        2995.609524   0.003893\n",
              "2015-12-31 2015-12-01        38.005455        3246.438182   0.003872\n",
              "2016-01-31 2016-01-01        30.875263        3282.683158   0.006138\n",
              "2016-02-29 2016-02-01        32.181500        3354.887500   0.011443\n",
              "2016-03-31 2016-03-01        38.210455        3137.715455   0.005692\n",
              "2016-04-30 2016-04-01        41.583333        2998.712857   0.005302\n",
              "2016-05-31 2016-05-01        46.742381        2987.488095   0.004292\n",
              "2016-06-30 2016-06-01        48.247273        2992.864545   0.005202\n",
              "2016-07-31 2016-07-01        44.951905        2960.058571   0.001978\n",
              "2016-08-31 2016-08-01        45.843043        2961.422174   0.002300\n",
              "2016-09-30 2016-09-01        46.567727        2921.145455   0.002932\n",
              "2016-10-31 2016-10-01        49.522381        2931.800476   0.000877"
            ]
          },
          "execution_count": 325,
          "metadata": {},
          "output_type": "execute_result"
        }
      ],
      "source": [
        "Datos = Datos.set_index('ts')  ## se define la variable ts como el indice del tiempo\n",
        "Datos"
      ]
    },
    {
      "cell_type": "code",
      "execution_count": null,
      "metadata": {
        "id": "oKfjxho40cj7",
        "outputId": "5e5f9bc9-1ba3-4628-8081-6003178271c6"
      },
      "outputs": [
        {
          "data": {
            "text/plain": [
              "pandas.core.series.Series"
            ]
          },
          "execution_count": 326,
          "metadata": {},
          "output_type": "execute_result"
        }
      ],
      "source": [
        "type(Datos[\"Promedio de WTI\"])"
      ]
    },
    {
      "cell_type": "code",
      "execution_count": null,
      "metadata": {
        "id": "vMq5yXpq0cj7",
        "outputId": "090f9ffb-2cca-4dc9-de51-123ff6342711"
      },
      "outputs": [
        {
          "data": {
            "text/html": [
              "<div>\n",
              "<style scoped>\n",
              "    .dataframe tbody tr th:only-of-type {\n",
              "        vertical-align: middle;\n",
              "    }\n",
              "\n",
              "    .dataframe tbody tr th {\n",
              "        vertical-align: top;\n",
              "    }\n",
              "\n",
              "    .dataframe thead th {\n",
              "        text-align: right;\n",
              "    }\n",
              "</style>\n",
              "<table border=\"1\" class=\"dataframe\">\n",
              "  <thead>\n",
              "    <tr style=\"text-align: right;\">\n",
              "      <th></th>\n",
              "      <th>Promedio de WTI</th>\n",
              "      <th>Promedio de Dólar</th>\n",
              "      <th>Inflación</th>\n",
              "    </tr>\n",
              "  </thead>\n",
              "  <tbody>\n",
              "    <tr>\n",
              "      <th>count</th>\n",
              "      <td>22.000000</td>\n",
              "      <td>22.000000</td>\n",
              "      <td>22.000000</td>\n",
              "    </tr>\n",
              "    <tr>\n",
              "      <th>mean</th>\n",
              "      <td>47.861149</td>\n",
              "      <td>2882.777687</td>\n",
              "      <td>0.004505</td>\n",
              "    </tr>\n",
              "    <tr>\n",
              "      <th>std</th>\n",
              "      <td>8.801224</td>\n",
              "      <td>285.730701</td>\n",
              "      <td>0.002520</td>\n",
              "    </tr>\n",
              "    <tr>\n",
              "      <th>min</th>\n",
              "      <td>30.875263</td>\n",
              "      <td>2398.827500</td>\n",
              "      <td>0.000877</td>\n",
              "    </tr>\n",
              "    <tr>\n",
              "      <th>25%</th>\n",
              "      <td>44.438690</td>\n",
              "      <td>2623.165435</td>\n",
              "      <td>0.003474</td>\n",
              "    </tr>\n",
              "    <tr>\n",
              "      <th>50%</th>\n",
              "      <td>47.182781</td>\n",
              "      <td>2960.740373</td>\n",
              "      <td>0.004003</td>\n",
              "    </tr>\n",
              "    <tr>\n",
              "      <th>75%</th>\n",
              "      <td>54.294686</td>\n",
              "      <td>3010.171839</td>\n",
              "      <td>0.005277</td>\n",
              "    </tr>\n",
              "    <tr>\n",
              "      <th>max</th>\n",
              "      <td>64.075000</td>\n",
              "      <td>3354.887500</td>\n",
              "      <td>0.011443</td>\n",
              "    </tr>\n",
              "  </tbody>\n",
              "</table>\n",
              "</div>"
            ],
            "text/plain": [
              "       Promedio de WTI  Promedio de Dólar  Inflación\n",
              "count        22.000000          22.000000  22.000000\n",
              "mean         47.861149        2882.777687   0.004505\n",
              "std           8.801224         285.730701   0.002520\n",
              "min          30.875263        2398.827500   0.000877\n",
              "25%          44.438690        2623.165435   0.003474\n",
              "50%          47.182781        2960.740373   0.004003\n",
              "75%          54.294686        3010.171839   0.005277\n",
              "max          64.075000        3354.887500   0.011443"
            ]
          },
          "execution_count": 327,
          "metadata": {},
          "output_type": "execute_result"
        }
      ],
      "source": [
        "Datos.describe()"
      ]
    },
    {
      "cell_type": "markdown",
      "metadata": {
        "id": "bUmzQ6aY0cj7"
      },
      "source": [
        "Traer los datos de un día en específico"
      ]
    },
    {
      "cell_type": "code",
      "execution_count": null,
      "metadata": {
        "id": "Vmu1mQRP0cj7",
        "outputId": "81111ddd-eb95-49ba-e370-ffe2abf5efb8"
      },
      "outputs": [
        {
          "name": "stdout",
          "output_type": "stream",
          "text": [
            "48.43 ; 2934.1177272727273 ; 0.003918372400132058\n"
          ]
        }
      ],
      "source": [
        "print(Datos[\"Promedio de WTI\"][\"2015/10/31\"],\";\",\n",
        "Datos[\"Promedio de Dólar\"][\"2015/10/31\"],\";\",\n",
        "Datos[\"Inflación\"][\"2015/10/31\"])\n"
      ]
    },
    {
      "cell_type": "markdown",
      "metadata": {
        "id": "Q-ulVkN50cj8"
      },
      "source": [
        "Traer los datos de un rango"
      ]
    },
    {
      "cell_type": "code",
      "execution_count": null,
      "metadata": {
        "id": "5e282pb60cj8",
        "outputId": "11db3753-c326-430a-979d-b79e2434f6a2"
      },
      "outputs": [
        {
          "name": "stdout",
          "output_type": "stream",
          "text": [
            "ts\n",
            "2015-11-30    44.267619\n",
            "2015-12-31    38.005455\n",
            "2016-01-31    30.875263\n",
            "2016-02-29    32.181500\n",
            "2016-03-31    38.210455\n",
            "Name: Promedio de WTI, dtype: float64 ; ts\n",
            "2015-11-30    2995.609524\n",
            "2015-12-31    3246.438182\n",
            "2016-01-31    3282.683158\n",
            "2016-02-29    3354.887500\n",
            "2016-03-31    3137.715455\n",
            "Name: Promedio de Dólar, dtype: float64 ; ts\n",
            "2015-11-30    0.003893\n",
            "2015-12-31    0.003872\n",
            "2016-01-31    0.006138\n",
            "2016-02-29    0.011443\n",
            "2016-03-31    0.005692\n",
            "Name: Inflación, dtype: float64\n"
          ]
        }
      ],
      "source": [
        "print(Datos[\"Promedio de WTI\"][\"2015-11-30\":\"2016-03-31\"],\";\",\n",
        "Datos[\"Promedio de Dólar\"][\"2015-11-30\":\"2016-03-31\"],\";\",\n",
        "Datos[\"Inflación\"][\"2015-11-30\":\"2016-03-31\"])"
      ]
    }
  ],
  "metadata": {
    "kernelspec": {
      "display_name": "Python 3",
      "language": "python",
      "name": "python3"
    },
    "language_info": {
      "codemirror_mode": {
        "name": "ipython",
        "version": 3
      },
      "file_extension": ".py",
      "mimetype": "text/x-python",
      "name": "python",
      "nbconvert_exporter": "python",
      "pygments_lexer": "ipython3",
      "version": "3.7.3"
    },
    "colab": {
      "name": "07_Pandas.ipynb",
      "provenance": [],
      "include_colab_link": true
    }
  },
  "nbformat": 4,
  "nbformat_minor": 0
}